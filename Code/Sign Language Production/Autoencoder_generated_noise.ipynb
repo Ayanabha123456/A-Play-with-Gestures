{
  "nbformat": 4,
  "nbformat_minor": 0,
  "metadata": {
    "colab": {
      "provenance": []
    },
    "kernelspec": {
      "name": "python3",
      "display_name": "Python 3"
    },
    "language_info": {
      "name": "python"
    },
    "accelerator": "GPU"
  },
  "cells": [
    {
      "cell_type": "code",
      "execution_count": null,
      "metadata": {
        "id": "N4LIfNa46rON"
      },
      "outputs": [],
      "source": [
        "import matplotlib.pyplot as plt\n",
        "import tensorflow as tf\n",
        "from tensorflow.keras import models, losses, Sequential\n",
        "from tensorflow.keras.models import Model\n",
        "from sklearn.model_selection import train_test_split\n",
        "from tensorflow.keras import layers\n",
        "from tensorflow.keras.utils import plot_model\n",
        "import keras\n",
        "import pickle"
      ]
    },
    {
      "cell_type": "markdown",
      "source": [
        "Generating Noise using encoder"
      ],
      "metadata": {
        "id": "KdRQK-7lTzIP"
      }
    },
    {
      "cell_type": "code",
      "source": [
        "#input shape\n",
        "rows=120\n",
        "cols=160\n",
        "channels=3\n",
        "img_shape=(rows,cols,channels)\n",
        "#latent space\n",
        "latent_dim=256"
      ],
      "metadata": {
        "id": "58f0obPET-Qd"
      },
      "execution_count": null,
      "outputs": []
    },
    {
      "cell_type": "code",
      "source": [
        "def build_encoder(img_shape,latent_dim):\n",
        "    encoder = Sequential()\n",
        "    encoder.add(layers.InputLayer(img_shape))\n",
        "    encoder.add(layers.Flatten())\n",
        "    encoder.add(layers.Dense(latent_dim))\n",
        "    return encoder"
      ],
      "metadata": {
        "id": "9CiapvT0UHCl"
      },
      "execution_count": null,
      "outputs": []
    },
    {
      "cell_type": "code",
      "source": [
        "encoder=build_encoder(img_shape,latent_dim)\n",
        "encoder.save('drive/MyDrive/encoder2.h5')"
      ],
      "metadata": {
        "colab": {
          "base_uri": "https://localhost:8080/"
        },
        "id": "7cWSXrN8VfK_",
        "outputId": "eaead353-cabe-4a7f-dc7d-df7be07d9d1a"
      },
      "execution_count": null,
      "outputs": [
        {
          "output_type": "stream",
          "name": "stdout",
          "text": [
            "WARNING:tensorflow:Compiled the loaded model, but the compiled metrics have yet to be built. `model.compile_metrics` will be empty until you train or evaluate the model.\n"
          ]
        }
      ]
    }
  ]
}