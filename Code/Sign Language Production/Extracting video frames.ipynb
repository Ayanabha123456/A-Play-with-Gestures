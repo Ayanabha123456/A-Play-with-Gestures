{
 "cells": [
  {
   "cell_type": "code",
   "execution_count": 1,
   "id": "da88b879",
   "metadata": {},
   "outputs": [],
   "source": [
    "import cv2\n",
    "import os"
   ]
  },
  {
   "cell_type": "code",
   "execution_count": 2,
   "id": "9bac7030",
   "metadata": {},
   "outputs": [],
   "source": [
    "video_path='D:\\\\Capstone utilities\\\\Datasets\\\\RWTH_PHOENIX_sample'"
   ]
  },
  {
   "cell_type": "code",
   "execution_count": 8,
   "id": "a67d597b",
   "metadata": {},
   "outputs": [],
   "source": [
    "#making folders for each video's frames\n",
    "frame_path='D:\\\\Capstone utilities\\\\Datasets\\\\RWTH_PHOENIX_frames'\n",
    "arr=os.listdir(video_path)\n",
    "for video in arr:\n",
    "    frame_directory=video[0:len(video)-4]\n",
    "    path=frame_path+'\\\\'+frame_directory\n",
    "    os.mkdir(path)"
   ]
  },
  {
   "cell_type": "code",
   "execution_count": 17,
   "id": "550c987e",
   "metadata": {},
   "outputs": [],
   "source": [
    "#storing video frames\n",
    "frame_path='D:\\\\Capstone utilities\\\\Datasets\\\\RWTH_PHOENIX_frames'\n",
    "arr=os.listdir(frame_path)\n",
    "for frame_dir in arr:\n",
    "    video=video_path+'\\\\'+frame_dir+'.mp4'\n",
    "    cam=cv2.VideoCapture(video)\n",
    "    currentFrame = 0\n",
    "    while(True):\n",
    "        ret,frame = cam.read()\n",
    "        if ret==False:\n",
    "            break\n",
    "        name = frame_path+'\\\\'+frame_dir+'\\\\'+str(currentFrame)+'.jpg'\n",
    "        cv2.imwrite(name, frame)\n",
    "        currentFrame=currentFrame+1"
   ]
  },
  {
   "cell_type": "code",
   "execution_count": null,
   "id": "c47895b7",
   "metadata": {},
   "outputs": [],
   "source": []
  }
 ],
 "metadata": {
  "kernelspec": {
   "display_name": "Python 3 (ipykernel)",
   "language": "python",
   "name": "python3"
  },
  "language_info": {
   "codemirror_mode": {
    "name": "ipython",
    "version": 3
   },
   "file_extension": ".py",
   "mimetype": "text/x-python",
   "name": "python",
   "nbconvert_exporter": "python",
   "pygments_lexer": "ipython3",
   "version": "3.9.7"
  }
 },
 "nbformat": 4,
 "nbformat_minor": 5
}
