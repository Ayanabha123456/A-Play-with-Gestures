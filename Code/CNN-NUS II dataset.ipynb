{
 "cells": [
  {
   "cell_type": "code",
   "execution_count": 1,
   "id": "579a07b8",
   "metadata": {},
   "outputs": [],
   "source": [
    "import numpy as np\n",
    "import cv2\n",
    "import pickle\n",
    "import pandas as pd\n",
    "from keras_preprocessing.image import ImageDataGenerator\n",
    "import os"
   ]
  },
  {
   "cell_type": "code",
   "execution_count": 2,
   "id": "b3557388",
   "metadata": {},
   "outputs": [],
   "source": [
    "x=pickle.load(open('C:\\\\Users\\\\Ayanabha\\\\Capstone\\\\Pickles\\\\x_nus_II.pkl','rb'))\n",
    "y=pickle.load(open('C:\\\\Users\\\\Ayanabha\\\\Capstone\\\\Pickles\\\\y_nus_II.pkl','rb'))"
   ]
  },
  {
   "cell_type": "code",
   "execution_count": 3,
   "id": "2f61c922",
   "metadata": {},
   "outputs": [],
   "source": [
    "from sklearn.model_selection import train_test_split\n",
    "X_train, X_test, y_train, y_test = train_test_split(x, y, test_size=250/len(x), random_state=42)"
   ]
  },
  {
   "cell_type": "code",
   "execution_count": 4,
   "id": "823fbf17",
   "metadata": {},
   "outputs": [],
   "source": [
    "data={'id':X_train,'sign':y_train}\n",
    "df1=pd.DataFrame(data)"
   ]
  },
  {
   "cell_type": "code",
   "execution_count": 5,
   "id": "51a0f6a3",
   "metadata": {},
   "outputs": [],
   "source": [
    "data={'id':X_test,'sign':y_test}\n",
    "df2=pd.DataFrame(data)"
   ]
  },
  {
   "cell_type": "code",
   "execution_count": 6,
   "id": "e84235bd",
   "metadata": {},
   "outputs": [
    {
     "name": "stdout",
     "output_type": "stream",
     "text": [
      "Found 1750 validated image filenames belonging to 10 classes.\n"
     ]
    }
   ],
   "source": [
    "#Image augmentation on train data\n",
    "train_datagen = ImageDataGenerator(rescale = 1./255,\n",
    "                                   shear_range = 0.2,\n",
    "                                   zoom_range = 0.2,\n",
    "                                   horizontal_flip = True)\n",
    "training_set = train_datagen.flow_from_dataframe(dataframe=df1,\n",
    "                                        directory=None,\n",
    "                                        x_col=\"id\", y_col=\"sign\",\n",
    "                                        batch_size=16, seed=42,\n",
    "                                        class_mode=\"categorical\",\n",
    "                                        target_size=(120,120))"
   ]
  },
  {
   "cell_type": "code",
   "execution_count": 7,
   "id": "38a85035",
   "metadata": {},
   "outputs": [
    {
     "name": "stdout",
     "output_type": "stream",
     "text": [
      "Found 250 validated image filenames belonging to 10 classes.\n"
     ]
    }
   ],
   "source": [
    "#Image augmentation on test data\n",
    "test_datagen = ImageDataGenerator(rescale = 1./255)\n",
    "testing_set = test_datagen.flow_from_dataframe(dataframe=df2,\n",
    "                                        directory=None,\n",
    "                                        x_col=\"id\", y_col=\"sign\",\n",
    "                                        batch_size=16, seed=42,\n",
    "                                        class_mode=\"categorical\",\n",
    "                                        target_size=(120,120))"
   ]
  },
  {
   "cell_type": "code",
   "execution_count": 8,
   "id": "9b721ea8",
   "metadata": {},
   "outputs": [],
   "source": [
    "import tensorflow as tf"
   ]
  },
  {
   "cell_type": "code",
   "execution_count": 13,
   "id": "b16214c4",
   "metadata": {},
   "outputs": [],
   "source": [
    "init=tf.keras.initializers.he_uniform(seed=5)"
   ]
  },
  {
   "cell_type": "code",
   "execution_count": 23,
   "id": "7a4dbc1b",
   "metadata": {},
   "outputs": [],
   "source": [
    "cnn = tf.keras.models.Sequential()\n",
    "cnn.add(tf.keras.layers.Conv2D(filters=32, kernel_size=3, kernel_initializer=init,\n",
    "                               activation='relu', input_shape=[120, 120, 3]))\n",
    "cnn.add(tf.keras.layers.MaxPool2D(pool_size=2, strides=2))\n",
    "cnn.add(tf.keras.layers.Conv2D(filters=32, kernel_size=3,kernel_initializer=init, \n",
    "                               activation='relu'))\n",
    "cnn.add(tf.keras.layers.MaxPool2D(pool_size=2, strides=2))\n",
    "cnn.add(tf.keras.layers.Flatten())\n",
    "cnn.add(tf.keras.layers.Dense(units=128,kernel_initializer=init,activation='relu'))\n",
    "cnn.add(tf.keras.layers.Dense(units=10, activation='softmax'))"
   ]
  },
  {
   "cell_type": "code",
   "execution_count": 24,
   "id": "cb8b32db",
   "metadata": {},
   "outputs": [],
   "source": [
    "cnn.compile(optimizer = 'adam', loss = 'categorical_crossentropy', metrics = ['accuracy'])"
   ]
  },
  {
   "cell_type": "code",
   "execution_count": 25,
   "id": "d6bacee8",
   "metadata": {},
   "outputs": [
    {
     "name": "stdout",
     "output_type": "stream",
     "text": [
      "Epoch 1/50\n",
      "110/110 [==============================] - 7s 63ms/step - loss: 2.5593 - accuracy: 0.1411 - val_loss: 2.2348 - val_accuracy: 0.1440\n",
      "Epoch 2/50\n",
      "110/110 [==============================] - 7s 62ms/step - loss: 1.9279 - accuracy: 0.3589 - val_loss: 1.6221 - val_accuracy: 0.4600\n",
      "Epoch 3/50\n",
      "110/110 [==============================] - 7s 61ms/step - loss: 1.4221 - accuracy: 0.5229 - val_loss: 1.3396 - val_accuracy: 0.5560\n",
      "Epoch 4/50\n",
      "110/110 [==============================] - 7s 64ms/step - loss: 1.1018 - accuracy: 0.6286 - val_loss: 1.1111 - val_accuracy: 0.6120\n",
      "Epoch 5/50\n",
      "110/110 [==============================] - 7s 61ms/step - loss: 0.9479 - accuracy: 0.6903 - val_loss: 0.9733 - val_accuracy: 0.6560\n",
      "Epoch 6/50\n",
      "110/110 [==============================] - 7s 63ms/step - loss: 0.8043 - accuracy: 0.7360 - val_loss: 0.9259 - val_accuracy: 0.6720\n",
      "Epoch 7/50\n",
      "110/110 [==============================] - 7s 61ms/step - loss: 0.6511 - accuracy: 0.7834 - val_loss: 0.7987 - val_accuracy: 0.7360\n",
      "Epoch 8/50\n",
      "110/110 [==============================] - 7s 62ms/step - loss: 0.5532 - accuracy: 0.8194 - val_loss: 0.7171 - val_accuracy: 0.7720\n",
      "Epoch 9/50\n",
      "110/110 [==============================] - 7s 62ms/step - loss: 0.4815 - accuracy: 0.8514 - val_loss: 0.7424 - val_accuracy: 0.7240\n",
      "Epoch 10/50\n",
      "110/110 [==============================] - 7s 61ms/step - loss: 0.3805 - accuracy: 0.8823 - val_loss: 0.6940 - val_accuracy: 0.7800\n",
      "Epoch 11/50\n",
      "110/110 [==============================] - 7s 62ms/step - loss: 0.3471 - accuracy: 0.8829 - val_loss: 0.6266 - val_accuracy: 0.8120\n",
      "Epoch 12/50\n",
      "110/110 [==============================] - 7s 62ms/step - loss: 0.3065 - accuracy: 0.9017 - val_loss: 0.5112 - val_accuracy: 0.8120\n",
      "Epoch 13/50\n",
      "110/110 [==============================] - 7s 62ms/step - loss: 0.2487 - accuracy: 0.9194 - val_loss: 0.4694 - val_accuracy: 0.8360\n",
      "Epoch 14/50\n",
      "110/110 [==============================] - 7s 61ms/step - loss: 0.2162 - accuracy: 0.9286 - val_loss: 0.5985 - val_accuracy: 0.8120\n",
      "Epoch 15/50\n",
      "110/110 [==============================] - 7s 61ms/step - loss: 0.2004 - accuracy: 0.9366 - val_loss: 0.6812 - val_accuracy: 0.8000\n",
      "Epoch 16/50\n",
      "110/110 [==============================] - 7s 62ms/step - loss: 0.1795 - accuracy: 0.9537 - val_loss: 0.5586 - val_accuracy: 0.8400\n",
      "Epoch 17/50\n",
      "110/110 [==============================] - 7s 62ms/step - loss: 0.1785 - accuracy: 0.9457 - val_loss: 0.6130 - val_accuracy: 0.8040\n",
      "Epoch 18/50\n",
      "110/110 [==============================] - 7s 63ms/step - loss: 0.1069 - accuracy: 0.9686 - val_loss: 0.5980 - val_accuracy: 0.8400\n",
      "Epoch 19/50\n",
      "110/110 [==============================] - 7s 62ms/step - loss: 0.1226 - accuracy: 0.9600 - val_loss: 0.5972 - val_accuracy: 0.8480\n",
      "Epoch 20/50\n",
      "110/110 [==============================] - 7s 64ms/step - loss: 0.0961 - accuracy: 0.9731 - val_loss: 0.5938 - val_accuracy: 0.8560\n",
      "Epoch 21/50\n",
      "110/110 [==============================] - 7s 61ms/step - loss: 0.1149 - accuracy: 0.9651 - val_loss: 0.5610 - val_accuracy: 0.8640\n",
      "Epoch 22/50\n",
      "110/110 [==============================] - 7s 62ms/step - loss: 0.0958 - accuracy: 0.9686 - val_loss: 0.5930 - val_accuracy: 0.8320\n",
      "Epoch 23/50\n",
      "110/110 [==============================] - 7s 64ms/step - loss: 0.1251 - accuracy: 0.9646 - val_loss: 0.5906 - val_accuracy: 0.8280\n",
      "Epoch 24/50\n",
      "110/110 [==============================] - 7s 61ms/step - loss: 0.1013 - accuracy: 0.9640 - val_loss: 0.5597 - val_accuracy: 0.8520\n",
      "Epoch 25/50\n",
      "110/110 [==============================] - 7s 62ms/step - loss: 0.0846 - accuracy: 0.9720 - val_loss: 0.5733 - val_accuracy: 0.8440\n",
      "Epoch 26/50\n",
      "110/110 [==============================] - 7s 62ms/step - loss: 0.0684 - accuracy: 0.9789 - val_loss: 0.5945 - val_accuracy: 0.8280\n",
      "Epoch 27/50\n",
      "110/110 [==============================] - 7s 62ms/step - loss: 0.1018 - accuracy: 0.9680 - val_loss: 0.5197 - val_accuracy: 0.8600\n",
      "Epoch 28/50\n",
      "110/110 [==============================] - 7s 62ms/step - loss: 0.0768 - accuracy: 0.9777 - val_loss: 0.4339 - val_accuracy: 0.8800\n",
      "Epoch 29/50\n",
      "110/110 [==============================] - 7s 63ms/step - loss: 0.0669 - accuracy: 0.9811 - val_loss: 0.6450 - val_accuracy: 0.8360\n",
      "Epoch 30/50\n",
      "110/110 [==============================] - 7s 63ms/step - loss: 0.0641 - accuracy: 0.9811 - val_loss: 0.5205 - val_accuracy: 0.8640\n",
      "Epoch 31/50\n",
      "110/110 [==============================] - 7s 62ms/step - loss: 0.0606 - accuracy: 0.9863 - val_loss: 0.3957 - val_accuracy: 0.8880\n",
      "Epoch 32/50\n",
      "110/110 [==============================] - 7s 61ms/step - loss: 0.0323 - accuracy: 0.9909 - val_loss: 0.4501 - val_accuracy: 0.8480\n",
      "Epoch 33/50\n",
      "110/110 [==============================] - 7s 61ms/step - loss: 0.0578 - accuracy: 0.9846 - val_loss: 0.5587 - val_accuracy: 0.8720\n",
      "Epoch 34/50\n",
      "110/110 [==============================] - 7s 62ms/step - loss: 0.0742 - accuracy: 0.9783 - val_loss: 0.5769 - val_accuracy: 0.8600\n",
      "Epoch 35/50\n",
      "110/110 [==============================] - 7s 63ms/step - loss: 0.0911 - accuracy: 0.9749 - val_loss: 0.5215 - val_accuracy: 0.8760\n",
      "Epoch 36/50\n",
      "110/110 [==============================] - 7s 61ms/step - loss: 0.0587 - accuracy: 0.9840 - val_loss: 0.5007 - val_accuracy: 0.8720\n",
      "Epoch 37/50\n",
      "110/110 [==============================] - 7s 63ms/step - loss: 0.0893 - accuracy: 0.9731 - val_loss: 0.4747 - val_accuracy: 0.8520\n",
      "Epoch 38/50\n",
      "110/110 [==============================] - 7s 61ms/step - loss: 0.0545 - accuracy: 0.9823 - val_loss: 0.4856 - val_accuracy: 0.8760\n",
      "Epoch 39/50\n",
      "110/110 [==============================] - 7s 64ms/step - loss: 0.0561 - accuracy: 0.9846 - val_loss: 0.5728 - val_accuracy: 0.8320\n",
      "Epoch 40/50\n",
      "110/110 [==============================] - 7s 63ms/step - loss: 0.0428 - accuracy: 0.9863 - val_loss: 0.4803 - val_accuracy: 0.8720\n",
      "Epoch 41/50\n",
      "110/110 [==============================] - 7s 62ms/step - loss: 0.0310 - accuracy: 0.9891 - val_loss: 0.5914 - val_accuracy: 0.8400\n",
      "Epoch 42/50\n",
      "110/110 [==============================] - 7s 62ms/step - loss: 0.0614 - accuracy: 0.9817 - val_loss: 0.4629 - val_accuracy: 0.8800\n",
      "Epoch 43/50\n",
      "110/110 [==============================] - 7s 62ms/step - loss: 0.0475 - accuracy: 0.9840 - val_loss: 0.4987 - val_accuracy: 0.8760\n",
      "Epoch 44/50\n",
      "110/110 [==============================] - 7s 62ms/step - loss: 0.0476 - accuracy: 0.9840 - val_loss: 0.4068 - val_accuracy: 0.9040\n",
      "Epoch 45/50\n",
      "110/110 [==============================] - 7s 61ms/step - loss: 0.0602 - accuracy: 0.9840 - val_loss: 0.4658 - val_accuracy: 0.8880\n",
      "Epoch 46/50\n",
      "110/110 [==============================] - 7s 62ms/step - loss: 0.0601 - accuracy: 0.9840 - val_loss: 0.5971 - val_accuracy: 0.8520\n",
      "Epoch 47/50\n",
      "110/110 [==============================] - 7s 61ms/step - loss: 0.0357 - accuracy: 0.9903 - val_loss: 0.5656 - val_accuracy: 0.8400\n",
      "Epoch 48/50\n",
      "110/110 [==============================] - 7s 62ms/step - loss: 0.0317 - accuracy: 0.9914 - val_loss: 0.5267 - val_accuracy: 0.8760\n",
      "Epoch 49/50\n",
      "110/110 [==============================] - 7s 61ms/step - loss: 0.0325 - accuracy: 0.9897 - val_loss: 0.4531 - val_accuracy: 0.8800\n",
      "Epoch 50/50\n",
      "110/110 [==============================] - 7s 62ms/step - loss: 0.0561 - accuracy: 0.9840 - val_loss: 0.4046 - val_accuracy: 0.9080\n"
     ]
    }
   ],
   "source": [
    "history=cnn.fit(x = training_set, validation_data = testing_set, epochs = 50)"
   ]
  },
  {
   "cell_type": "code",
   "execution_count": 27,
   "id": "bbd4034d",
   "metadata": {},
   "outputs": [
    {
     "data": {
      "image/png": "[encoded data removed]",
      "text/plain": [
       "<Figure size 432x288 with 1 Axes>"
      ]
     },
     "metadata": {
      "needs_background": "light"
     },
     "output_type": "display_data"
    }
   ],
   "source": [
    "# summarize history for accuracy\n",
    "import matplotlib.pyplot as plt\n",
    "plt.plot(history.history['accuracy'])\n",
    "plt.plot(history.history['val_accuracy'])\n",
    "plt.title('CNN accuracy - NUS II dataset')\n",
    "plt.ylabel('accuracy')\n",
    "plt.xlabel('epoch')\n",
    "plt.legend(['train', 'test'], loc='upper left')\n",
    "plt.show()"
   ]
  },
  {
   "cell_type": "code",
   "execution_count": 28,
   "id": "c18e588f",
   "metadata": {},
   "outputs": [
    {
     "data": {
      "image/png": "[encoded data removed]",
      "text/plain": [
       "<Figure size 432x288 with 1 Axes>"
      ]
     },
     "metadata": {
      "needs_background": "light"
     },
     "output_type": "display_data"
    }
   ],
   "source": [
    "# summarize history for loss\n",
    "plt.plot(history.history['loss'])\n",
    "plt.plot(history.history['val_loss'])\n",
    "plt.title('CNN loss - NUS II dataset')\n",
    "plt.ylabel('loss')\n",
    "plt.xlabel('epoch')\n",
    "plt.legend(['train', 'test'], loc='upper left')\n",
    "plt.show()"
   ]
  },
  {
   "cell_type": "code",
   "execution_count": null,
   "id": "e9263240",
   "metadata": {},
   "outputs": [],
   "source": []
  }
 ],
 "metadata": {
  "kernelspec": {
   "display_name": "Python 3 (ipykernel)",
   "language": "python",
   "name": "python3"
  },
  "language_info": {
   "codemirror_mode": {
    "name": "ipython",
    "version": 3
   },
   "file_extension": ".py",
   "mimetype": "text/x-python",
   "name": "python",
   "nbconvert_exporter": "python",
   "pygments_lexer": "ipython3",
   "version": "3.9.7"
  }
 },
 "nbformat": 4,
 "nbformat_minor": 5
}
