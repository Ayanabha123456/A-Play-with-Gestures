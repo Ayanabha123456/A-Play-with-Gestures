{
 "cells": [
  {
   "cell_type": "code",
   "execution_count": 1,
   "id": "2282056a",
   "metadata": {},
   "outputs": [],
   "source": [
    "import numpy as np\n",
    "from scipy.linalg import sqrtm\n",
    "from keras.applications.inception_v3 import InceptionV3,preprocess_input\n",
    "import pickle\n",
    "from tensorflow.keras.models import load_model"
   ]
  },
  {
   "cell_type": "code",
   "execution_count": 2,
   "id": "3aa5af6d",
   "metadata": {},
   "outputs": [],
   "source": [
    "def fid(model,real_imgs,gen_imgs):\n",
    "    #getting inception vectors\n",
    "    vec1=model.predict(real_imgs)\n",
    "    vec2=model.predict(gen_imgs)\n",
    "    #calculating fid\n",
    "    mu1, sigma1 = vec1.mean(axis=0), np.cov(vec1, rowvar=False)\n",
    "    mu2, sigma2 = vec2.mean(axis=0), np.cov(vec2, rowvar=False)\n",
    "    ss=np.sum((mu1-mu2)**2.0)\n",
    "    sqrt_cov=sqrtm(sigma1.dot(sigma2))\n",
    "    if np.iscomplexobj(sqrt_cov):\n",
    "        sqrt_cov=sqrt_cov.real\n",
    "    score=ss+np.trace(sigma1+sigma2-2.0*sqrt_cov)\n",
    "    return score"
   ]
  },
  {
   "cell_type": "code",
   "execution_count": 3,
   "id": "96321847",
   "metadata": {},
   "outputs": [],
   "source": [
    "model=InceptionV3(include_top=False, pooling='avg', input_shape=(120,160,3))"
   ]
  },
  {
   "cell_type": "markdown",
   "id": "9d43c6c7",
   "metadata": {},
   "source": [
    "# NUS I - GAN"
   ]
  },
  {
   "cell_type": "code",
   "execution_count": 7,
   "id": "209b4e0c",
   "metadata": {},
   "outputs": [],
   "source": [
    "#loading real images\n",
    "images1=pickle.load(open('X_train.pkl','rb'))"
   ]
  },
  {
   "cell_type": "code",
   "execution_count": 12,
   "id": "a1f89af8",
   "metadata": {},
   "outputs": [
    {
     "name": "stdout",
     "output_type": "stream",
     "text": [
      "WARNING:tensorflow:Error in loading the saved optimizer state. As a result, your model is starting with a freshly initialized optimizer.\n"
     ]
    }
   ],
   "source": [
    "#getting generated images\n",
    "gen=load_model('text-2-sign\\\\generator_model_test.h5')\n",
    "noise=np.random.normal(0,1,(images1.shape[0],100))\n",
    "images2=gen.predict(noise)\n",
    "images2=0.5*images2+0.5"
   ]
  },
  {
   "cell_type": "code",
   "execution_count": 14,
   "id": "a3f2aa84",
   "metadata": {},
   "outputs": [],
   "source": [
    "images1 = images1.astype('float32')\n",
    "images2 = images2.astype('float32')"
   ]
  },
  {
   "cell_type": "code",
   "execution_count": 16,
   "id": "e921d33a",
   "metadata": {},
   "outputs": [],
   "source": [
    "images1 = preprocess_input(images1)\n",
    "images2 = preprocess_input(images2)"
   ]
  },
  {
   "cell_type": "code",
   "execution_count": 21,
   "id": "ba146ea6",
   "metadata": {},
   "outputs": [
    {
     "name": "stdout",
     "output_type": "stream",
     "text": [
      "4391.949763900963\n"
     ]
    }
   ],
   "source": [
    "print(fid(model,images1,images2))"
   ]
  },
  {
   "cell_type": "markdown",
   "id": "31dc619e",
   "metadata": {},
   "source": [
    "# NUS I - GAN with autoencoder noise"
   ]
  },
  {
   "cell_type": "code",
   "execution_count": 5,
   "id": "c91e6ce5",
   "metadata": {},
   "outputs": [],
   "source": [
    "#loading real images\n",
    "images1=pickle.load(open('X_train.pkl','rb'))"
   ]
  },
  {
   "cell_type": "code",
   "execution_count": 6,
   "id": "3c83b37d",
   "metadata": {},
   "outputs": [
    {
     "name": "stdout",
     "output_type": "stream",
     "text": [
      "WARNING:tensorflow:No training configuration found in the save file, so the model was *not* compiled. Compile it manually.\n",
      "WARNING:tensorflow:Error in loading the saved optimizer state. As a result, your model is starting with a freshly initialized optimizer.\n"
     ]
    }
   ],
   "source": [
    "#getting generated images\n",
    "encoder=load_model('text-2-sign\\\\encoder.h5')\n",
    "gen=load_model('text-2-sign\\\\generator_model_test_autoencode_NUS_I.h5')\n",
    "noise=encoder.predict(images1)\n",
    "images2=gen.predict(noise)\n",
    "images2=0.5*images2+0.5"
   ]
  },
  {
   "cell_type": "code",
   "execution_count": 7,
   "id": "41e0cd62",
   "metadata": {},
   "outputs": [],
   "source": [
    "images1 = images1.astype('float32')\n",
    "images2 = images2.astype('float32')"
   ]
  },
  {
   "cell_type": "code",
   "execution_count": 8,
   "id": "337078e4",
   "metadata": {},
   "outputs": [],
   "source": [
    "images1 = preprocess_input(images1)\n",
    "images2 = preprocess_input(images2)"
   ]
  },
  {
   "cell_type": "code",
   "execution_count": 9,
   "id": "9070f628",
   "metadata": {},
   "outputs": [
    {
     "name": "stdout",
     "output_type": "stream",
     "text": [
      "4222.317346197322\n"
     ]
    }
   ],
   "source": [
    "print(fid(model,images1,images2))"
   ]
  },
  {
   "cell_type": "markdown",
   "id": "1413c69f",
   "metadata": {},
   "source": [
    "# NUS I - conditional GAN"
   ]
  },
  {
   "cell_type": "code",
   "execution_count": 31,
   "id": "6d24aa9f",
   "metadata": {},
   "outputs": [],
   "source": [
    "#loading real images\n",
    "images1=pickle.load(open('X_train.pkl','rb'))"
   ]
  },
  {
   "cell_type": "code",
   "execution_count": null,
   "id": "08dcf763",
   "metadata": {},
   "outputs": [],
   "source": [
    "#getting generated images\n",
    "gen=load_model('text-2-sign\\\\generator_model_test.h5')\n",
    "noise=np.random.normal(0,1,(images1.shape[0],100))\n",
    "images2=gen.predict(noise)\n",
    "images2=0.5*images2+0.5"
   ]
  },
  {
   "cell_type": "code",
   "execution_count": null,
   "id": "6d08aa5d",
   "metadata": {},
   "outputs": [],
   "source": []
  },
  {
   "cell_type": "markdown",
   "id": "a059c255",
   "metadata": {},
   "source": [
    "# ISL digits - GAN"
   ]
  },
  {
   "cell_type": "code",
   "execution_count": 9,
   "id": "1c2077cd",
   "metadata": {},
   "outputs": [],
   "source": [
    "#loading real images\n",
    "images1=pickle.load(open('Pickles\\\\imdata_ISL.pkl','rb'))"
   ]
  },
  {
   "cell_type": "code",
   "execution_count": 10,
   "id": "8133b526",
   "metadata": {},
   "outputs": [
    {
     "name": "stdout",
     "output_type": "stream",
     "text": [
      "WARNING:tensorflow:Error in loading the saved optimizer state. As a result, your model is starting with a freshly initialized optimizer.\n"
     ]
    }
   ],
   "source": [
    "#getting generated images\n",
    "gen=load_model('text-2-sign\\\\generator_model_test_ISL.h5')\n",
    "noise=np.random.normal(0,1,(images1.shape[0],100))\n",
    "images2=gen.predict(noise)\n",
    "images2=0.5*images2+0.5"
   ]
  },
  {
   "cell_type": "code",
   "execution_count": 11,
   "id": "0e094b14",
   "metadata": {},
   "outputs": [],
   "source": [
    "images1 = images1.astype('float32')\n",
    "images2 = images2.astype('float32')"
   ]
  },
  {
   "cell_type": "code",
   "execution_count": 12,
   "id": "7152770b",
   "metadata": {},
   "outputs": [],
   "source": [
    "images1 = preprocess_input(images1)\n",
    "images2 = preprocess_input(images2)"
   ]
  },
  {
   "cell_type": "code",
   "execution_count": 13,
   "id": "782e6e8d",
   "metadata": {},
   "outputs": [
    {
     "name": "stdout",
     "output_type": "stream",
     "text": [
      "3416.6203529583067\n"
     ]
    }
   ],
   "source": [
    "print(fid(model,images1,images2))"
   ]
  },
  {
   "cell_type": "markdown",
   "id": "edfee31e",
   "metadata": {},
   "source": [
    "# ISL digits - GAN with autoencoder noise"
   ]
  },
  {
   "cell_type": "code",
   "execution_count": 4,
   "id": "3a961bf4",
   "metadata": {},
   "outputs": [],
   "source": [
    "#loading real images\n",
    "images1=pickle.load(open('Pickles\\\\imdata_ISL.pkl','rb'))"
   ]
  },
  {
   "cell_type": "code",
   "execution_count": 5,
   "id": "3362cbd2",
   "metadata": {},
   "outputs": [
    {
     "name": "stdout",
     "output_type": "stream",
     "text": [
      "WARNING:tensorflow:No training configuration found in the save file, so the model was *not* compiled. Compile it manually.\n",
      "WARNING:tensorflow:Error in loading the saved optimizer state. As a result, your model is starting with a freshly initialized optimizer.\n"
     ]
    }
   ],
   "source": [
    "#getting generated images\n",
    "encoder=load_model('text-2-sign\\\\encoder.h5')\n",
    "gen=load_model('text-2-sign\\\\generator_model_test_autoencode_ISL.h5')\n",
    "noise=encoder.predict(images1)\n",
    "images2=gen.predict(noise)\n",
    "images2=0.5*images2+0.5"
   ]
  },
  {
   "cell_type": "code",
   "execution_count": 6,
   "id": "be16e2a1",
   "metadata": {},
   "outputs": [],
   "source": [
    "images1 = images1.astype('float32')\n",
    "images2 = images2.astype('float32')"
   ]
  },
  {
   "cell_type": "code",
   "execution_count": 7,
   "id": "a834a52e",
   "metadata": {},
   "outputs": [],
   "source": [
    "images1 = preprocess_input(images1)\n",
    "images2 = preprocess_input(images2)"
   ]
  },
  {
   "cell_type": "code",
   "execution_count": 8,
   "id": "b8f8a89e",
   "metadata": {},
   "outputs": [
    {
     "name": "stdout",
     "output_type": "stream",
     "text": [
      "3204.4738485525036\n"
     ]
    }
   ],
   "source": [
    "print(fid(model,images1,images2))"
   ]
  },
  {
   "cell_type": "markdown",
   "id": "c08b35de",
   "metadata": {},
   "source": [
    "# ISL digits - GAN (increased noise)"
   ]
  },
  {
   "cell_type": "code",
   "execution_count": 9,
   "id": "28f35842",
   "metadata": {},
   "outputs": [],
   "source": [
    "#loading real images\n",
    "images1=pickle.load(open('Pickles\\\\imdata_ISL.pkl','rb'))"
   ]
  },
  {
   "cell_type": "code",
   "execution_count": 10,
   "id": "afd9ddf0",
   "metadata": {},
   "outputs": [
    {
     "name": "stdout",
     "output_type": "stream",
     "text": [
      "WARNING:tensorflow:No training configuration found in the save file, so the model was *not* compiled. Compile it manually.\n"
     ]
    }
   ],
   "source": [
    "#getting generated images\n",
    "gen=load_model('text-2-sign\\\\generator_model_test_ISL2.h5')\n",
    "noise=np.random.normal(0,1,(images1.shape[0],256))\n",
    "images2=gen.predict(noise)\n",
    "images2=0.5*images2+0.5"
   ]
  },
  {
   "cell_type": "code",
   "execution_count": 11,
   "id": "39294e5f",
   "metadata": {},
   "outputs": [],
   "source": [
    "images1 = images1.astype('float32')\n",
    "images2 = images2.astype('float32')"
   ]
  },
  {
   "cell_type": "code",
   "execution_count": 12,
   "id": "5b1f60f2",
   "metadata": {},
   "outputs": [],
   "source": [
    "images1 = preprocess_input(images1)\n",
    "images2 = preprocess_input(images2)"
   ]
  },
  {
   "cell_type": "code",
   "execution_count": 13,
   "id": "6c0c41fc",
   "metadata": {},
   "outputs": [
    {
     "name": "stdout",
     "output_type": "stream",
     "text": [
      "3414.09265697122\n"
     ]
    }
   ],
   "source": [
    "print(fid(model,images1,images2))"
   ]
  },
  {
   "cell_type": "markdown",
   "id": "d47b050d",
   "metadata": {},
   "source": [
    "# ISL digits - GAN with autoencoder noise (increased noise)"
   ]
  },
  {
   "cell_type": "code",
   "execution_count": 12,
   "id": "da3d01aa",
   "metadata": {},
   "outputs": [],
   "source": [
    "#loading real images\n",
    "images1=pickle.load(open('Pickles\\\\imdata_ISL.pkl','rb'))"
   ]
  },
  {
   "cell_type": "code",
   "execution_count": 13,
   "id": "7cf06e30",
   "metadata": {},
   "outputs": [
    {
     "name": "stdout",
     "output_type": "stream",
     "text": [
      "WARNING:tensorflow:No training configuration found in the save file, so the model was *not* compiled. Compile it manually.\n",
      "WARNING:tensorflow:No training configuration found in the save file, so the model was *not* compiled. Compile it manually.\n"
     ]
    }
   ],
   "source": [
    "#getting generated images\n",
    "encoder=load_model('text-2-sign\\\\encoder2.h5')\n",
    "gen=load_model('text-2-sign\\\\generator_model_test_autoencode_ISL2.h5')\n",
    "noise=encoder.predict(images1)\n",
    "images2=gen.predict(noise)\n",
    "images2=0.5*images2+0.5"
   ]
  },
  {
   "cell_type": "code",
   "execution_count": 14,
   "id": "d983fcf5",
   "metadata": {},
   "outputs": [],
   "source": [
    "images1 = images1.astype('float32')\n",
    "images2 = images2.astype('float32')"
   ]
  },
  {
   "cell_type": "code",
   "execution_count": 15,
   "id": "eb53fb7c",
   "metadata": {},
   "outputs": [],
   "source": [
    "images1 = preprocess_input(images1)\n",
    "images2 = preprocess_input(images2)"
   ]
  },
  {
   "cell_type": "code",
   "execution_count": 16,
   "id": "34f6cd83",
   "metadata": {},
   "outputs": [
    {
     "name": "stdout",
     "output_type": "stream",
     "text": [
      "3275.139778313502\n"
     ]
    }
   ],
   "source": [
    "print(fid(model,images1,images2))"
   ]
  },
  {
   "cell_type": "markdown",
   "id": "02393f6d",
   "metadata": {},
   "source": [
    "# ISL digits - WGAN"
   ]
  },
  {
   "cell_type": "code",
   "execution_count": 10,
   "id": "3dc9d6f7",
   "metadata": {},
   "outputs": [],
   "source": [
    "#loading real images\n",
    "images1=pickle.load(open('Pickles\\\\imdata_ISL.pkl','rb'))"
   ]
  },
  {
   "cell_type": "code",
   "execution_count": 11,
   "id": "801ce013",
   "metadata": {},
   "outputs": [
    {
     "name": "stdout",
     "output_type": "stream",
     "text": [
      "WARNING:tensorflow:No training configuration found in the save file, so the model was *not* compiled. Compile it manually.\n"
     ]
    }
   ],
   "source": [
    "#getting generated images\n",
    "gen=load_model('text-2-sign\\\\wgenerator_model_test_ISL.h5')\n",
    "noise=np.random.normal(0,1,(images1.shape[0],100))\n",
    "images2=gen.predict(noise)\n",
    "images2=0.5*images2+0.5"
   ]
  },
  {
   "cell_type": "code",
   "execution_count": 12,
   "id": "fa59fd25",
   "metadata": {},
   "outputs": [],
   "source": [
    "images1 = images1.astype('float32')\n",
    "images2 = images2.astype('float32')"
   ]
  },
  {
   "cell_type": "code",
   "execution_count": 13,
   "id": "ec6e2567",
   "metadata": {},
   "outputs": [],
   "source": [
    "images1 = preprocess_input(images1)\n",
    "images2 = preprocess_input(images2)"
   ]
  },
  {
   "cell_type": "code",
   "execution_count": 14,
   "id": "c501341b",
   "metadata": {},
   "outputs": [
    {
     "name": "stdout",
     "output_type": "stream",
     "text": [
      "3381.61499933515\n"
     ]
    }
   ],
   "source": [
    "print(fid(model,images1,images2))"
   ]
  },
  {
   "cell_type": "markdown",
   "id": "18b10bb1",
   "metadata": {},
   "source": [
    "# ISL digits - WGAN with autoencoder noise"
   ]
  },
  {
   "cell_type": "code",
   "execution_count": 15,
   "id": "af185c0f",
   "metadata": {},
   "outputs": [],
   "source": [
    "#loading real images\n",
    "images1=pickle.load(open('Pickles\\\\imdata_ISL.pkl','rb'))"
   ]
  },
  {
   "cell_type": "code",
   "execution_count": 16,
   "id": "a308841b",
   "metadata": {},
   "outputs": [
    {
     "name": "stdout",
     "output_type": "stream",
     "text": [
      "WARNING:tensorflow:No training configuration found in the save file, so the model was *not* compiled. Compile it manually.\n",
      "WARNING:tensorflow:No training configuration found in the save file, so the model was *not* compiled. Compile it manually.\n"
     ]
    }
   ],
   "source": [
    "#getting generated images\n",
    "encoder=load_model('text-2-sign\\\\encoder.h5')\n",
    "gen=load_model('text-2-sign\\\\wgenerator_autoencode_model_test_ISL.h5')\n",
    "noise=encoder.predict(images1)\n",
    "images2=gen.predict(noise)\n",
    "images2=0.5*images2+0.5"
   ]
  },
  {
   "cell_type": "code",
   "execution_count": 17,
   "id": "b385a997",
   "metadata": {},
   "outputs": [],
   "source": [
    "images1 = images1.astype('float32')\n",
    "images2 = images2.astype('float32')"
   ]
  },
  {
   "cell_type": "code",
   "execution_count": 18,
   "id": "22b35891",
   "metadata": {},
   "outputs": [],
   "source": [
    "images1 = preprocess_input(images1)\n",
    "images2 = preprocess_input(images2)"
   ]
  },
  {
   "cell_type": "code",
   "execution_count": 19,
   "id": "e441051f",
   "metadata": {},
   "outputs": [
    {
     "name": "stdout",
     "output_type": "stream",
     "text": [
      "3237.4846553447837\n"
     ]
    }
   ],
   "source": [
    "print(fid(model,images1,images2))"
   ]
  },
  {
   "cell_type": "markdown",
   "id": "bb570744",
   "metadata": {},
   "source": [
    "# ISL digits - WGAN-GP(10000 epochs)"
   ]
  },
  {
   "cell_type": "code",
   "execution_count": 20,
   "id": "9d41c3f7",
   "metadata": {},
   "outputs": [],
   "source": [
    "#loading real images\n",
    "images1=pickle.load(open('Pickles\\\\imdata_ISL.pkl','rb'))"
   ]
  },
  {
   "cell_type": "code",
   "execution_count": 21,
   "id": "35ae3bdd",
   "metadata": {},
   "outputs": [
    {
     "name": "stdout",
     "output_type": "stream",
     "text": [
      "WARNING:tensorflow:No training configuration found in the save file, so the model was *not* compiled. Compile it manually.\n"
     ]
    }
   ],
   "source": [
    "#getting generated images\n",
    "gen=load_model('text-2-sign\\\\wgeneratorgp_model_test_ISL_10000_epochs.h5')\n",
    "noise=np.random.normal(0,1,(images1.shape[0],100))\n",
    "images2=gen.predict(noise)\n",
    "images2=0.5*images2+0.5"
   ]
  },
  {
   "cell_type": "code",
   "execution_count": 22,
   "id": "270f5e72",
   "metadata": {},
   "outputs": [],
   "source": [
    "images1 = images1.astype('float32')\n",
    "images2 = images2.astype('float32')"
   ]
  },
  {
   "cell_type": "code",
   "execution_count": 23,
   "id": "d71feb75",
   "metadata": {},
   "outputs": [],
   "source": [
    "images1 = preprocess_input(images1)\n",
    "images2 = preprocess_input(images2)"
   ]
  },
  {
   "cell_type": "code",
   "execution_count": 24,
   "id": "61845881",
   "metadata": {},
   "outputs": [
    {
     "name": "stdout",
     "output_type": "stream",
     "text": [
      "3391.4750467196964\n"
     ]
    }
   ],
   "source": [
    "print(fid(model,images1,images2))"
   ]
  },
  {
   "cell_type": "markdown",
   "id": "8833e3ff",
   "metadata": {},
   "source": [
    "# ISL digits - WGAN-GP(30000 epochs)"
   ]
  },
  {
   "cell_type": "code",
   "execution_count": 25,
   "id": "ea81d7de",
   "metadata": {},
   "outputs": [],
   "source": [
    "#loading real images\n",
    "images1=pickle.load(open('Pickles\\\\imdata_ISL.pkl','rb'))"
   ]
  },
  {
   "cell_type": "code",
   "execution_count": 26,
   "id": "f3e2de19",
   "metadata": {},
   "outputs": [
    {
     "name": "stdout",
     "output_type": "stream",
     "text": [
      "WARNING:tensorflow:No training configuration found in the save file, so the model was *not* compiled. Compile it manually.\n"
     ]
    }
   ],
   "source": [
    "#getting generated images\n",
    "gen=load_model('text-2-sign\\\\wgeneratorgp_model_test_ISL.h5')\n",
    "noise=np.random.normal(0,1,(images1.shape[0],100))\n",
    "images2=gen.predict(noise)\n",
    "images2=0.5*images2+0.5"
   ]
  },
  {
   "cell_type": "code",
   "execution_count": 27,
   "id": "99c4ceb2",
   "metadata": {},
   "outputs": [],
   "source": [
    "images1 = images1.astype('float32')\n",
    "images2 = images2.astype('float32')"
   ]
  },
  {
   "cell_type": "code",
   "execution_count": 28,
   "id": "b721240c",
   "metadata": {},
   "outputs": [],
   "source": [
    "images1 = preprocess_input(images1)\n",
    "images2 = preprocess_input(images2)"
   ]
  },
  {
   "cell_type": "code",
   "execution_count": 29,
   "id": "bd96fbfa",
   "metadata": {},
   "outputs": [
    {
     "name": "stdout",
     "output_type": "stream",
     "text": [
      "3392.429756256232\n"
     ]
    }
   ],
   "source": [
    "print(fid(model,images1,images2))"
   ]
  },
  {
   "cell_type": "markdown",
   "id": "4ca2bfa8",
   "metadata": {},
   "source": [
    "# ISL digits - WGAN-GP with autoencoder noise"
   ]
  },
  {
   "cell_type": "code",
   "execution_count": 4,
   "id": "91ee220a",
   "metadata": {},
   "outputs": [],
   "source": [
    "#loading real images\n",
    "images1=pickle.load(open('Pickles\\\\imdata_ISL.pkl','rb'))"
   ]
  },
  {
   "cell_type": "code",
   "execution_count": 5,
   "id": "ebecfc91",
   "metadata": {},
   "outputs": [
    {
     "name": "stdout",
     "output_type": "stream",
     "text": [
      "WARNING:tensorflow:No training configuration found in the save file, so the model was *not* compiled. Compile it manually.\n",
      "WARNING:tensorflow:No training configuration found in the save file, so the model was *not* compiled. Compile it manually.\n"
     ]
    }
   ],
   "source": [
    "#getting generated images\n",
    "encoder=load_model('text-2-sign\\\\encoder.h5')\n",
    "gen=load_model('text-2-sign\\\\wgeneratorgp_model_autoencoder_noise_test_ISL.h5')\n",
    "noise=encoder.predict(images1)\n",
    "images2=gen.predict(noise)\n",
    "images2=0.5*images2+0.5"
   ]
  },
  {
   "cell_type": "code",
   "execution_count": 6,
   "id": "66777fa0",
   "metadata": {},
   "outputs": [],
   "source": [
    "images1 = images1.astype('float32')\n",
    "images2 = images2.astype('float32')"
   ]
  },
  {
   "cell_type": "code",
   "execution_count": 7,
   "id": "61c10e97",
   "metadata": {},
   "outputs": [],
   "source": [
    "images1 = preprocess_input(images1)\n",
    "images2 = preprocess_input(images2)"
   ]
  },
  {
   "cell_type": "code",
   "execution_count": 8,
   "id": "277ae393",
   "metadata": {},
   "outputs": [
    {
     "name": "stdout",
     "output_type": "stream",
     "text": [
      "3158.1382942766977\n"
     ]
    }
   ],
   "source": [
    "print(fid(model,images1,images2))"
   ]
  },
  {
   "cell_type": "markdown",
   "id": "4f72ba59",
   "metadata": {},
   "source": [
    "# RWTH sample - GAN with autoencoder noise"
   ]
  },
  {
   "cell_type": "code",
   "execution_count": 17,
   "id": "023f604d",
   "metadata": {},
   "outputs": [],
   "source": [
    "#loading real images\n",
    "images1=pickle.load(open('Pickles\\\\imdata_rwth_sample.pkl','rb'))"
   ]
  },
  {
   "cell_type": "code",
   "execution_count": 18,
   "id": "8657ca2a",
   "metadata": {},
   "outputs": [
    {
     "name": "stdout",
     "output_type": "stream",
     "text": [
      "WARNING:tensorflow:No training configuration found in the save file, so the model was *not* compiled. Compile it manually.\n",
      "WARNING:tensorflow:No training configuration found in the save file, so the model was *not* compiled. Compile it manually.\n"
     ]
    }
   ],
   "source": [
    "#getting generated images\n",
    "encoder=load_model('text-2-sign\\\\encoder.h5')\n",
    "gen=load_model('text-2-sign\\\\generator_model_test_autoencode_RWTH.h5')\n",
    "noise=encoder.predict(images1)\n",
    "images2=gen.predict(noise)\n",
    "images2=0.5*images2+0.5"
   ]
  },
  {
   "cell_type": "code",
   "execution_count": 19,
   "id": "12567f3e",
   "metadata": {},
   "outputs": [],
   "source": [
    "images1 = images1.astype('float32')\n",
    "images2 = images2.astype('float32')"
   ]
  },
  {
   "cell_type": "code",
   "execution_count": 20,
   "id": "2e424df6",
   "metadata": {},
   "outputs": [],
   "source": [
    "images1 = preprocess_input(images1)\n",
    "images2 = preprocess_input(images2)"
   ]
  },
  {
   "cell_type": "code",
   "execution_count": 21,
   "id": "c20ae026",
   "metadata": {},
   "outputs": [
    {
     "name": "stdout",
     "output_type": "stream",
     "text": [
      "4148.0402451892205\n"
     ]
    }
   ],
   "source": [
    "print(fid(model,images1,images2))"
   ]
  },
  {
   "cell_type": "markdown",
   "id": "ca568473",
   "metadata": {},
   "source": [
    "# RWTH sample - WGAN-GP with autoencoder noise"
   ]
  },
  {
   "cell_type": "code",
   "execution_count": 7,
   "id": "270c5a32",
   "metadata": {},
   "outputs": [],
   "source": [
    "#loading real images\n",
    "images1=pickle.load(open('Pickles\\\\imdata_rwth_sample.pkl','rb'))"
   ]
  },
  {
   "cell_type": "code",
   "execution_count": 8,
   "id": "5c6fcbab",
   "metadata": {},
   "outputs": [
    {
     "name": "stdout",
     "output_type": "stream",
     "text": [
      "WARNING:tensorflow:No training configuration found in the save file, so the model was *not* compiled. Compile it manually.\n",
      "WARNING:tensorflow:No training configuration found in the save file, so the model was *not* compiled. Compile it manually.\n"
     ]
    }
   ],
   "source": [
    "#getting generated images\n",
    "encoder=load_model('text-2-sign\\\\encoder.h5')\n",
    "gen=load_model('text-2-sign\\\\wgeneratorgp_model_autoencoder_noise_test_rwth.h5')\n",
    "noise=encoder.predict(images1)\n",
    "images2=gen.predict(noise)\n",
    "images2=0.5*images2+0.5"
   ]
  },
  {
   "cell_type": "code",
   "execution_count": 9,
   "id": "d4b5e0ee",
   "metadata": {},
   "outputs": [],
   "source": [
    "images1 = images1.astype('float32')\n",
    "images2 = images2.astype('float32')"
   ]
  },
  {
   "cell_type": "code",
   "execution_count": 10,
   "id": "fdfb89e2",
   "metadata": {},
   "outputs": [],
   "source": [
    "images1 = preprocess_input(images1)\n",
    "images2 = preprocess_input(images2)"
   ]
  },
  {
   "cell_type": "code",
   "execution_count": 11,
   "id": "0efd8e91",
   "metadata": {},
   "outputs": [
    {
     "name": "stdout",
     "output_type": "stream",
     "text": [
      "3960.7539462817886\n"
     ]
    }
   ],
   "source": [
    "print(fid(model,images1,images2))"
   ]
  },
  {
   "cell_type": "code",
   "execution_count": null,
   "id": "1ff72394",
   "metadata": {},
   "outputs": [],
   "source": []
  }
 ],
 "metadata": {
  "kernelspec": {
   "display_name": "Python 3 (ipykernel)",
   "language": "python",
   "name": "python3"
  },
  "language_info": {
   "codemirror_mode": {
    "name": "ipython",
    "version": 3
   },
   "file_extension": ".py",
   "mimetype": "text/x-python",
   "name": "python",
   "nbconvert_exporter": "python",
   "pygments_lexer": "ipython3",
   "version": "3.9.7"
  }
 },
 "nbformat": 4,
 "nbformat_minor": 5
}
