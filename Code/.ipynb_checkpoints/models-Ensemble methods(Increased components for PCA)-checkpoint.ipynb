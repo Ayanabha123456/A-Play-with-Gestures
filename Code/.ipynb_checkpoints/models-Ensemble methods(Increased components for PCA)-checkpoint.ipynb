{
 "cells": [
  {
   "cell_type": "code",
   "execution_count": 1,
   "id": "4c9778ae",
   "metadata": {},
   "outputs": [],
   "source": [
    "import sklearn\n",
    "from sklearn.model_selection import train_test_split\n",
    "from sklearn.ensemble import RandomForestClassifier\n",
    "from sklearn.metrics import accuracy_score\n",
    "import xgboost as xgb\n",
    "import pandas as pd\n",
    "import pickle"
   ]
  },
  {
   "cell_type": "code",
   "execution_count": 2,
   "id": "dea129c9",
   "metadata": {},
   "outputs": [],
   "source": [
    "class Random_Forest:\n",
    "    def __init__(self,data,test_size):\n",
    "        self.ts=test_size\n",
    "        self.df=data\n",
    "    \n",
    "    def train(self):\n",
    "        #train-test split\n",
    "        X_train, X_test, y_train, y_test = train_test_split(self.df.iloc[:,1:-1], self.df.iloc[:,-1], test_size=self.ts, random_state=42)\n",
    "        \n",
    "        self.test_X = X_test\n",
    "        self.test_y = y_test\n",
    "        #model-training\n",
    "        clf = RandomForestClassifier(n_estimators = 100,random_state=5)\n",
    "        clf.fit(X_train,y_train)\n",
    "        self.model = clf\n",
    "        \n",
    "    def test(self):\n",
    "        y_pred = self.model.predict(self.test_X)\n",
    "        print(accuracy_score(y_pred,self.test_y))\n",
    "    \n",
    "    def train_seperate(self,X_train,y_train):\n",
    "        clf = RandomForestClassifier(n_estimators = 100,random_state=5)\n",
    "        clf.fit(X_train,y_train)\n",
    "        self.model = clf\n",
    "    \n",
    "    def test_seperate(self,X_test,y_test):\n",
    "        y_pred = self.model.predict(X_test)\n",
    "        print(accuracy_score(y_pred,y_test))\n",
    "        \n",
    "class XGBoost:\n",
    "    def __init__(self,data,test_size):\n",
    "        self.ts=test_size\n",
    "        self.df=data\n",
    "        \n",
    "    def train(self):\n",
    "        #train-test split\n",
    "        X_train, X_test, y_train, y_test = train_test_split(self.df.iloc[:,1:-1], self.df.iloc[:,-1], test_size=self.ts, random_state=42)\n",
    "        \n",
    "        self.test_X = X_test\n",
    "        self.test_y = y_test\n",
    "        #model-training\n",
    "        clf = xgb.XGBClassifier(random_state=5)\n",
    "        clf.fit(X_train,y_train)\n",
    "        self.model = clf\n",
    "        \n",
    "    def test(self):\n",
    "        y_pred = self.model.predict(self.test_X)\n",
    "        print(accuracy_score(y_pred,self.test_y))\n",
    "    \n",
    "    def train_seperate(self,X_train,y_train):\n",
    "        clf = xgb.XGBClassifier(random_state=5)\n",
    "        clf.fit(X_train,y_train)\n",
    "        self.model = clf\n",
    "    \n",
    "    def test_seperate(self,X_test,y_test):\n",
    "        y_pred = self.model.predict(X_test)\n",
    "        print(accuracy_score(y_pred,y_test))"
   ]
  },
  {
   "cell_type": "markdown",
   "id": "4fd013b0",
   "metadata": {},
   "source": [
    "# ASL alphabet"
   ]
  },
  {
   "cell_type": "code",
   "execution_count": 3,
   "id": "080df9ab",
   "metadata": {},
   "outputs": [
    {
     "name": "stdout",
     "output_type": "stream",
     "text": [
      "0.9530555555555555\n"
     ]
    },
    {
     "name": "stderr",
     "output_type": "stream",
     "text": [
      "D:\\Anaconda\\lib\\site-packages\\xgboost\\sklearn.py:1224: UserWarning: The use of label encoder in XGBClassifier is deprecated and will be removed in a future release. To remove this warning, do the following: 1) Pass option use_label_encoder=False when constructing XGBClassifier object; and 2) Encode your labels (y) as integers starting with 0, i.e. 0, 1, 2, ..., [num_class - 1].\n",
      "  warnings.warn(label_encoder_deprecation_msg, UserWarning)\n"
     ]
    },
    {
     "name": "stdout",
     "output_type": "stream",
     "text": [
      "[18:22:49] WARNING: C:/Users/Administrator/workspace/xgboost-win64_release_1.5.1/src/learner.cc:1115: Starting in XGBoost 1.3.0, the default evaluation metric used with the objective 'multi:softprob' was changed from 'merror' to 'mlogloss'. Explicitly set eval_metric if you'd like to restore the old behavior.\n",
      "0.9372916666666666\n"
     ]
    }
   ],
   "source": [
    "#CNN on hand edges+ PCA\n",
    "df=pd.read_csv('imageData4_asl.csv')\n",
    "\n",
    "x=Random_Forest(df,0.2)\n",
    "x.train()\n",
    "x.test()      \n",
    "\n",
    "\n",
    "\n",
    "df=pd.read_csv('imageData4_asl.csv')\n",
    "x=XGBoost(df,0.2)\n",
    "x.train()\n",
    "x.test()"
   ]
  },
  {
   "cell_type": "code",
   "execution_count": 3,
   "id": "4e47a88c",
   "metadata": {},
   "outputs": [
    {
     "name": "stdout",
     "output_type": "stream",
     "text": [
      "0.8899305555555556\n"
     ]
    },
    {
     "name": "stderr",
     "output_type": "stream",
     "text": [
      "D:\\Anaconda\\lib\\site-packages\\xgboost\\sklearn.py:1224: UserWarning: The use of label encoder in XGBClassifier is deprecated and will be removed in a future release. To remove this warning, do the following: 1) Pass option use_label_encoder=False when constructing XGBClassifier object; and 2) Encode your labels (y) as integers starting with 0, i.e. 0, 1, 2, ..., [num_class - 1].\n",
      "  warnings.warn(label_encoder_deprecation_msg, UserWarning)\n"
     ]
    },
    {
     "name": "stdout",
     "output_type": "stream",
     "text": [
      "[00:00:43] WARNING: C:/Users/Administrator/workspace/xgboost-win64_release_1.5.1/src/learner.cc:1115: Starting in XGBoost 1.3.0, the default evaluation metric used with the objective 'multi:softprob' was changed from 'merror' to 'mlogloss'. Explicitly set eval_metric if you'd like to restore the old behavior.\n",
      "0.8622916666666667\n"
     ]
    }
   ],
   "source": [
    "#CNN on BRISK + PCA\n",
    "df=pd.read_csv('imageData6_asl.csv')\n",
    "\n",
    "x=Random_Forest(df,0.2)\n",
    "x.train()\n",
    "x.test()      \n",
    "\n",
    "\n",
    "\n",
    "df=pd.read_csv('imageData6_asl.csv')\n",
    "x=XGBoost(df,0.2)\n",
    "x.train()\n",
    "x.test()"
   ]
  },
  {
   "cell_type": "markdown",
   "id": "7e9b6215",
   "metadata": {},
   "source": [
    "# NUS I dataset"
   ]
  },
  {
   "cell_type": "code",
   "execution_count": 23,
   "id": "9a851d13",
   "metadata": {},
   "outputs": [
    {
     "name": "stdout",
     "output_type": "stream",
     "text": [
      "0.56\n",
      "[11:02:42] WARNING: C:/Users/Administrator/workspace/xgboost-win64_release_1.5.1/src/learner.cc:1115: Starting in XGBoost 1.3.0, the default evaluation metric used with the objective 'multi:softprob' was changed from 'merror' to 'mlogloss'. Explicitly set eval_metric if you'd like to restore the old behavior.\n"
     ]
    },
    {
     "name": "stderr",
     "output_type": "stream",
     "text": [
      "D:\\Anaconda\\lib\\site-packages\\xgboost\\sklearn.py:1224: UserWarning: The use of label encoder in XGBClassifier is deprecated and will be removed in a future release. To remove this warning, do the following: 1) Pass option use_label_encoder=False when constructing XGBClassifier object; and 2) Encode your labels (y) as integers starting with 0, i.e. 0, 1, 2, ..., [num_class - 1].\n",
      "  warnings.warn(label_encoder_deprecation_msg, UserWarning)\n"
     ]
    },
    {
     "name": "stdout",
     "output_type": "stream",
     "text": [
      "0.52\n"
     ]
    }
   ],
   "source": [
    "#Convolutional features + PCA\n",
    "df=pd.read_csv('imageData2_nus_I.csv')\n",
    "\n",
    "x=Random_Forest(df,25/df.shape[0])\n",
    "x.train()\n",
    "x.test()      \n",
    "\n",
    "\n",
    "\n",
    "df=pd.read_csv('imageData2_nus_I.csv')\n",
    "x=XGBoost(df,25/df.shape[0])\n",
    "x.train()\n",
    "x.test()"
   ]
  },
  {
   "cell_type": "code",
   "execution_count": 24,
   "id": "2478db98",
   "metadata": {},
   "outputs": [
    {
     "name": "stdout",
     "output_type": "stream",
     "text": [
      "0.6\n",
      "[11:05:31] WARNING: C:/Users/Administrator/workspace/xgboost-win64_release_1.5.1/src/learner.cc:1115: Starting in XGBoost 1.3.0, the default evaluation metric used with the objective 'multi:softprob' was changed from 'merror' to 'mlogloss'. Explicitly set eval_metric if you'd like to restore the old behavior.\n"
     ]
    },
    {
     "name": "stderr",
     "output_type": "stream",
     "text": [
      "D:\\Anaconda\\lib\\site-packages\\xgboost\\sklearn.py:1224: UserWarning: The use of label encoder in XGBClassifier is deprecated and will be removed in a future release. To remove this warning, do the following: 1) Pass option use_label_encoder=False when constructing XGBClassifier object; and 2) Encode your labels (y) as integers starting with 0, i.e. 0, 1, 2, ..., [num_class - 1].\n",
      "  warnings.warn(label_encoder_deprecation_msg, UserWarning)\n"
     ]
    },
    {
     "name": "stdout",
     "output_type": "stream",
     "text": [
      "0.52\n"
     ]
    }
   ],
   "source": [
    "#Convolutional features + finger angles+ PCA\n",
    "df=pd.read_csv('imageData3_nus_I.csv')\n",
    "\n",
    "x=Random_Forest(df,25/df.shape[0])\n",
    "x.train()\n",
    "x.test()      \n",
    "\n",
    "\n",
    "\n",
    "df=pd.read_csv('imageData3_nus_I.csv')\n",
    "x=XGBoost(df,25/df.shape[0])\n",
    "x.train()\n",
    "x.test()"
   ]
  },
  {
   "cell_type": "code",
   "execution_count": 25,
   "id": "4de04b80",
   "metadata": {},
   "outputs": [
    {
     "name": "stdout",
     "output_type": "stream",
     "text": [
      "0.52\n",
      "[11:07:24] WARNING: C:/Users/Administrator/workspace/xgboost-win64_release_1.5.1/src/learner.cc:1115: Starting in XGBoost 1.3.0, the default evaluation metric used with the objective 'multi:softprob' was changed from 'merror' to 'mlogloss'. Explicitly set eval_metric if you'd like to restore the old behavior.\n"
     ]
    },
    {
     "name": "stderr",
     "output_type": "stream",
     "text": [
      "D:\\Anaconda\\lib\\site-packages\\xgboost\\sklearn.py:1224: UserWarning: The use of label encoder in XGBClassifier is deprecated and will be removed in a future release. To remove this warning, do the following: 1) Pass option use_label_encoder=False when constructing XGBClassifier object; and 2) Encode your labels (y) as integers starting with 0, i.e. 0, 1, 2, ..., [num_class - 1].\n",
      "  warnings.warn(label_encoder_deprecation_msg, UserWarning)\n"
     ]
    },
    {
     "name": "stdout",
     "output_type": "stream",
     "text": [
      "0.56\n"
     ]
    }
   ],
   "source": [
    "#CNN on hand edges+ PCA\n",
    "df=pd.read_csv('imageData4_nus_I.csv')\n",
    "\n",
    "x=Random_Forest(df,25/df.shape[0])\n",
    "x.train()\n",
    "x.test()      \n",
    "\n",
    "\n",
    "\n",
    "df=pd.read_csv('imageData4_nus_I.csv')\n",
    "x=XGBoost(df,25/df.shape[0])\n",
    "x.train()\n",
    "x.test()"
   ]
  },
  {
   "cell_type": "code",
   "execution_count": 3,
   "id": "f895c56b",
   "metadata": {},
   "outputs": [
    {
     "name": "stdout",
     "output_type": "stream",
     "text": [
      "0.64\n",
      "[14:33:50] WARNING: C:/Users/Administrator/workspace/xgboost-win64_release_1.5.1/src/learner.cc:1115: Starting in XGBoost 1.3.0, the default evaluation metric used with the objective 'multi:softprob' was changed from 'merror' to 'mlogloss'. Explicitly set eval_metric if you'd like to restore the old behavior.\n"
     ]
    },
    {
     "name": "stderr",
     "output_type": "stream",
     "text": [
      "D:\\Anaconda\\lib\\site-packages\\xgboost\\sklearn.py:1224: UserWarning: The use of label encoder in XGBClassifier is deprecated and will be removed in a future release. To remove this warning, do the following: 1) Pass option use_label_encoder=False when constructing XGBClassifier object; and 2) Encode your labels (y) as integers starting with 0, i.e. 0, 1, 2, ..., [num_class - 1].\n",
      "  warnings.warn(label_encoder_deprecation_msg, UserWarning)\n"
     ]
    },
    {
     "name": "stdout",
     "output_type": "stream",
     "text": [
      "0.6\n"
     ]
    }
   ],
   "source": [
    "#CNN on BRISK+ PCA\n",
    "df=pd.read_csv('imageData6_nus_I.csv')\n",
    "\n",
    "x=Random_Forest(df,25/df.shape[0])\n",
    "x.train()\n",
    "x.test()      \n",
    "\n",
    "\n",
    "\n",
    "df=pd.read_csv('imageData6_nus_I.csv')\n",
    "x=XGBoost(df,25/df.shape[0])\n",
    "x.train()\n",
    "x.test()"
   ]
  },
  {
   "cell_type": "markdown",
   "id": "ba814dfc",
   "metadata": {},
   "source": [
    "# NUS II Dataset"
   ]
  },
  {
   "cell_type": "code",
   "execution_count": 18,
   "id": "eca50d0b",
   "metadata": {},
   "outputs": [
    {
     "name": "stdout",
     "output_type": "stream",
     "text": [
      "0.68\n",
      "[10:52:15] WARNING: C:/Users/Administrator/workspace/xgboost-win64_release_1.5.1/src/learner.cc:1115: Starting in XGBoost 1.3.0, the default evaluation metric used with the objective 'multi:softprob' was changed from 'merror' to 'mlogloss'. Explicitly set eval_metric if you'd like to restore the old behavior.\n"
     ]
    },
    {
     "name": "stderr",
     "output_type": "stream",
     "text": [
      "D:\\Anaconda\\lib\\site-packages\\xgboost\\sklearn.py:1224: UserWarning: The use of label encoder in XGBClassifier is deprecated and will be removed in a future release. To remove this warning, do the following: 1) Pass option use_label_encoder=False when constructing XGBClassifier object; and 2) Encode your labels (y) as integers starting with 0, i.e. 0, 1, 2, ..., [num_class - 1].\n",
      "  warnings.warn(label_encoder_deprecation_msg, UserWarning)\n"
     ]
    },
    {
     "name": "stdout",
     "output_type": "stream",
     "text": [
      "0.688\n"
     ]
    }
   ],
   "source": [
    "#Convolutional features + PCA\n",
    "df=pd.read_csv('imageData2_nus_II.csv')\n",
    "\n",
    "x=Random_Forest(df,250/df.shape[0])\n",
    "x.train()\n",
    "x.test()      \n",
    "\n",
    "\n",
    "\n",
    "df=pd.read_csv('imageData2_nus_II.csv')\n",
    "x=XGBoost(df,250/df.shape[0])\n",
    "x.train()\n",
    "x.test()"
   ]
  },
  {
   "cell_type": "code",
   "execution_count": 19,
   "id": "18bfd6f5",
   "metadata": {},
   "outputs": [
    {
     "name": "stdout",
     "output_type": "stream",
     "text": [
      "0.712\n",
      "[10:53:43] WARNING: C:/Users/Administrator/workspace/xgboost-win64_release_1.5.1/src/learner.cc:1115: Starting in XGBoost 1.3.0, the default evaluation metric used with the objective 'multi:softprob' was changed from 'merror' to 'mlogloss'. Explicitly set eval_metric if you'd like to restore the old behavior.\n"
     ]
    },
    {
     "name": "stderr",
     "output_type": "stream",
     "text": [
      "D:\\Anaconda\\lib\\site-packages\\xgboost\\sklearn.py:1224: UserWarning: The use of label encoder in XGBClassifier is deprecated and will be removed in a future release. To remove this warning, do the following: 1) Pass option use_label_encoder=False when constructing XGBClassifier object; and 2) Encode your labels (y) as integers starting with 0, i.e. 0, 1, 2, ..., [num_class - 1].\n",
      "  warnings.warn(label_encoder_deprecation_msg, UserWarning)\n"
     ]
    },
    {
     "name": "stdout",
     "output_type": "stream",
     "text": [
      "0.64\n"
     ]
    }
   ],
   "source": [
    "#Convolutional features + finger angles + PCA\n",
    "df=pd.read_csv('imageData3_nus_II.csv')\n",
    "\n",
    "x=Random_Forest(df,250/df.shape[0])\n",
    "x.train()\n",
    "x.test()      \n",
    "\n",
    "\n",
    "\n",
    "df=pd.read_csv('imageData3_nus_II.csv')\n",
    "x=XGBoost(df,250/df.shape[0])\n",
    "x.train()\n",
    "x.test()"
   ]
  },
  {
   "cell_type": "code",
   "execution_count": 6,
   "id": "8d062b2c",
   "metadata": {},
   "outputs": [
    {
     "name": "stdout",
     "output_type": "stream",
     "text": [
      "0.656\n"
     ]
    },
    {
     "name": "stderr",
     "output_type": "stream",
     "text": [
      "D:\\Anaconda\\lib\\site-packages\\xgboost\\sklearn.py:1224: UserWarning: The use of label encoder in XGBClassifier is deprecated and will be removed in a future release. To remove this warning, do the following: 1) Pass option use_label_encoder=False when constructing XGBClassifier object; and 2) Encode your labels (y) as integers starting with 0, i.e. 0, 1, 2, ..., [num_class - 1].\n",
      "  warnings.warn(label_encoder_deprecation_msg, UserWarning)\n"
     ]
    },
    {
     "name": "stdout",
     "output_type": "stream",
     "text": [
      "[21:02:07] WARNING: C:/Users/Administrator/workspace/xgboost-win64_release_1.5.1/src/learner.cc:1115: Starting in XGBoost 1.3.0, the default evaluation metric used with the objective 'multi:softprob' was changed from 'merror' to 'mlogloss'. Explicitly set eval_metric if you'd like to restore the old behavior.\n",
      "0.664\n"
     ]
    }
   ],
   "source": [
    "#CNN on hand edges + PCA\n",
    "df=pd.read_csv('imageData4_nus_II.csv')\n",
    "\n",
    "x=Random_Forest(df,250/df.shape[0])\n",
    "x.train()\n",
    "x.test()      \n",
    "\n",
    "\n",
    "\n",
    "df=pd.read_csv('imageData4_nus_II.csv')\n",
    "x=XGBoost(df,250/df.shape[0])\n",
    "x.train()\n",
    "x.test()"
   ]
  },
  {
   "cell_type": "code",
   "execution_count": 6,
   "id": "ebcc55aa",
   "metadata": {},
   "outputs": [
    {
     "name": "stdout",
     "output_type": "stream",
     "text": [
      "0.408\n",
      "[14:56:47] WARNING: C:/Users/Administrator/workspace/xgboost-win64_release_1.5.1/src/learner.cc:1115: Starting in XGBoost 1.3.0, the default evaluation metric used with the objective 'multi:softprob' was changed from 'merror' to 'mlogloss'. Explicitly set eval_metric if you'd like to restore the old behavior.\n"
     ]
    },
    {
     "name": "stderr",
     "output_type": "stream",
     "text": [
      "D:\\Anaconda\\lib\\site-packages\\xgboost\\sklearn.py:1224: UserWarning: The use of label encoder in XGBClassifier is deprecated and will be removed in a future release. To remove this warning, do the following: 1) Pass option use_label_encoder=False when constructing XGBClassifier object; and 2) Encode your labels (y) as integers starting with 0, i.e. 0, 1, 2, ..., [num_class - 1].\n",
      "  warnings.warn(label_encoder_deprecation_msg, UserWarning)\n"
     ]
    },
    {
     "name": "stdout",
     "output_type": "stream",
     "text": [
      "0.404\n"
     ]
    }
   ],
   "source": [
    "#CNN on BRISK + PCA\n",
    "df=pd.read_csv('imageData6_nus_II.csv')\n",
    "\n",
    "x=Random_Forest(df,250/df.shape[0])\n",
    "x.train()\n",
    "x.test()      \n",
    "\n",
    "\n",
    "\n",
    "df=pd.read_csv('imageData6_nus_II.csv')\n",
    "x=XGBoost(df,250/df.shape[0])\n",
    "x.train()\n",
    "x.test()"
   ]
  },
  {
   "cell_type": "markdown",
   "id": "2718fa57",
   "metadata": {},
   "source": [
    "# ASL fingerspell "
   ]
  },
  {
   "cell_type": "code",
   "execution_count": 32,
   "id": "1552e958",
   "metadata": {},
   "outputs": [
    {
     "name": "stdout",
     "output_type": "stream",
     "text": [
      "0.966628658304827\n"
     ]
    },
    {
     "name": "stderr",
     "output_type": "stream",
     "text": [
      "D:\\Anaconda\\lib\\site-packages\\xgboost\\sklearn.py:1224: UserWarning: The use of label encoder in XGBClassifier is deprecated and will be removed in a future release. To remove this warning, do the following: 1) Pass option use_label_encoder=False when constructing XGBClassifier object; and 2) Encode your labels (y) as integers starting with 0, i.e. 0, 1, 2, ..., [num_class - 1].\n",
      "  warnings.warn(label_encoder_deprecation_msg, UserWarning)\n"
     ]
    },
    {
     "name": "stdout",
     "output_type": "stream",
     "text": [
      "[11:49:10] WARNING: C:/Users/Administrator/workspace/xgboost-win64_release_1.5.1/src/learner.cc:1115: Starting in XGBoost 1.3.0, the default evaluation metric used with the objective 'multi:softprob' was changed from 'merror' to 'mlogloss'. Explicitly set eval_metric if you'd like to restore the old behavior.\n",
      "0.9655644241733181\n"
     ]
    }
   ],
   "source": [
    "#Convolutional features + PCA\n",
    "df=pd.read_csv('imageData2_ASL_fingerspell.csv')\n",
    "x=Random_Forest(df,0.2)\n",
    "x.train()\n",
    "x.test()      \n",
    "\n",
    "\n",
    "\n",
    "df=pd.read_csv('imageData2_ASL_fingerspell.csv')\n",
    "x=XGBoost(df,0.2)\n",
    "x.train()\n",
    "x.test()"
   ]
  },
  {
   "cell_type": "code",
   "execution_count": 5,
   "id": "c04afc10",
   "metadata": {},
   "outputs": [
    {
     "name": "stdout",
     "output_type": "stream",
     "text": [
      "0.9639083828179225\n"
     ]
    },
    {
     "name": "stderr",
     "output_type": "stream",
     "text": [
      "D:\\Anaconda\\lib\\site-packages\\xgboost\\sklearn.py:1224: UserWarning: The use of label encoder in XGBClassifier is deprecated and will be removed in a future release. To remove this warning, do the following: 1) Pass option use_label_encoder=False when constructing XGBClassifier object; and 2) Encode your labels (y) as integers starting with 0, i.e. 0, 1, 2, ..., [num_class - 1].\n",
      "  warnings.warn(label_encoder_deprecation_msg, UserWarning)\n"
     ]
    },
    {
     "name": "stdout",
     "output_type": "stream",
     "text": [
      "[20:15:56] WARNING: C:/Users/Administrator/workspace/xgboost-win64_release_1.5.1/src/learner.cc:1115: Starting in XGBoost 1.3.0, the default evaluation metric used with the objective 'multi:softprob' was changed from 'merror' to 'mlogloss'. Explicitly set eval_metric if you'd like to restore the old behavior.\n",
      "0.9612092234132799\n"
     ]
    }
   ],
   "source": [
    "#Convolutional features + finger angles + PCA\n",
    "df=pd.read_csv('imageData3_ASL_fingerspell.csv')\n",
    "x=Random_Forest(df,0.2)\n",
    "x.train()\n",
    "x.test()      \n",
    "\n",
    "\n",
    "\n",
    "df=pd.read_csv('imageData3_ASL_fingerspell.csv')\n",
    "x=XGBoost(df,0.2)\n",
    "x.train()\n",
    "x.test()"
   ]
  },
  {
   "cell_type": "code",
   "execution_count": 3,
   "id": "c548530d",
   "metadata": {},
   "outputs": [
    {
     "name": "stdout",
     "output_type": "stream",
     "text": [
      "0.9090079817559863\n"
     ]
    },
    {
     "name": "stderr",
     "output_type": "stream",
     "text": [
      "D:\\Anaconda\\lib\\site-packages\\xgboost\\sklearn.py:1224: UserWarning: The use of label encoder in XGBClassifier is deprecated and will be removed in a future release. To remove this warning, do the following: 1) Pass option use_label_encoder=False when constructing XGBClassifier object; and 2) Encode your labels (y) as integers starting with 0, i.e. 0, 1, 2, ..., [num_class - 1].\n",
      "  warnings.warn(label_encoder_deprecation_msg, UserWarning)\n"
     ]
    },
    {
     "name": "stdout",
     "output_type": "stream",
     "text": [
      "[19:14:57] WARNING: C:/Users/Administrator/workspace/xgboost-win64_release_1.5.1/src/learner.cc:1115: Starting in XGBoost 1.3.0, the default evaluation metric used with the objective 'multi:softprob' was changed from 'merror' to 'mlogloss'. Explicitly set eval_metric if you'd like to restore the old behavior.\n",
      "0.9042189281641961\n"
     ]
    }
   ],
   "source": [
    "#CNN features on hand edges + PCA\n",
    "df=pd.read_csv('imageData4_ASL_fingerspell.csv')\n",
    "x=Random_Forest(df,0.2)\n",
    "x.train()\n",
    "x.test()      \n",
    "\n",
    "\n",
    "\n",
    "df=pd.read_csv('imageData4_ASL_fingerspell.csv')\n",
    "x=XGBoost(df,0.2)\n",
    "x.train()\n",
    "x.test()"
   ]
  },
  {
   "cell_type": "code",
   "execution_count": 3,
   "id": "15df089c",
   "metadata": {},
   "outputs": [
    {
     "name": "stdout",
     "output_type": "stream",
     "text": [
      "0.7865450399087799\n"
     ]
    },
    {
     "name": "stderr",
     "output_type": "stream",
     "text": [
      "D:\\Anaconda\\lib\\site-packages\\xgboost\\sklearn.py:1224: UserWarning: The use of label encoder in XGBClassifier is deprecated and will be removed in a future release. To remove this warning, do the following: 1) Pass option use_label_encoder=False when constructing XGBClassifier object; and 2) Encode your labels (y) as integers starting with 0, i.e. 0, 1, 2, ..., [num_class - 1].\n",
      "  warnings.warn(label_encoder_deprecation_msg, UserWarning)\n"
     ]
    },
    {
     "name": "stdout",
     "output_type": "stream",
     "text": [
      "[12:05:30] WARNING: C:/Users/Administrator/workspace/xgboost-win64_release_1.5.1/src/learner.cc:1115: Starting in XGBoost 1.3.0, the default evaluation metric used with the objective 'multi:softprob' was changed from 'merror' to 'mlogloss'. Explicitly set eval_metric if you'd like to restore the old behavior.\n",
      "0.7844925883694412\n"
     ]
    }
   ],
   "source": [
    "#CNN on BRISK + PCA\n",
    "df=pd.read_csv('imageData6_ASL_fingerspell.csv')\n",
    "x=Random_Forest(df,0.2)\n",
    "x.train()\n",
    "x.test()      \n",
    "\n",
    "\n",
    "\n",
    "df=pd.read_csv('imageData6_ASL_fingerspell.csv')\n",
    "x=XGBoost(df,0.2)\n",
    "x.train()\n",
    "x.test()"
   ]
  },
  {
   "cell_type": "code",
   "execution_count": null,
   "id": "6b7d2446",
   "metadata": {},
   "outputs": [],
   "source": []
  }
 ],
 "metadata": {
  "kernelspec": {
   "display_name": "Python 3 (ipykernel)",
   "language": "python",
   "name": "python3"
  },
  "language_info": {
   "codemirror_mode": {
    "name": "ipython",
    "version": 3
   },
   "file_extension": ".py",
   "mimetype": "text/x-python",
   "name": "python",
   "nbconvert_exporter": "python",
   "pygments_lexer": "ipython3",
   "version": "3.9.13"
  }
 },
 "nbformat": 4,
 "nbformat_minor": 5
}
