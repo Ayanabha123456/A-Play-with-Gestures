{
 "cells": [
  {
   "cell_type": "code",
   "execution_count": 1,
   "id": "4c9778ae",
   "metadata": {},
   "outputs": [],
   "source": [
    "from sklearn.model_selection import train_test_split\n",
    "from sklearn.ensemble import RandomForestClassifier\n",
    "from sklearn.metrics import accuracy_score\n",
    "import xgboost as xgb\n",
    "import pandas as pd\n",
    "import pickle"
   ]
  },
  {
   "cell_type": "markdown",
   "id": "f8716dc5",
   "metadata": {},
   "source": [
    "### train(), test() - uses data provided to class during initialization\n",
    "### train_seperate(), test_seperate() - uses data directly provided to these functions during call"
   ]
  },
  {
   "cell_type": "code",
   "execution_count": 2,
   "id": "dea129c9",
   "metadata": {},
   "outputs": [],
   "source": [
    "class Random_Forest:\n",
    "    def __init__(self,data,test_size):\n",
    "        self.ts=test_size\n",
    "        self.df=data\n",
    "    \n",
    "    def train(self):\n",
    "        #train-test split\n",
    "        X_train, X_test, y_train, y_test = train_test_split(self.df.iloc[:,1:-1], self.df.iloc[:,-1], test_size=self.ts, random_state=42)\n",
    "        \n",
    "        self.test_X = X_test\n",
    "        self.test_y = y_test\n",
    "        #model-training\n",
    "        clf = RandomForestClassifier(n_estimators = 100,random_state=5)\n",
    "        clf.fit(X_train,y_train)\n",
    "        self.model = clf\n",
    "        \n",
    "    def test(self):\n",
    "        y_pred = self.model.predict(self.test_X)\n",
    "        print(accuracy_score(y_pred,self.test_y))\n",
    "    \n",
    "    def train_seperate(self,X_train,y_train):\n",
    "        clf = RandomForestClassifier(n_estimators = 100,random_state=5)\n",
    "        clf.fit(X_train,y_train)\n",
    "        self.model = clf\n",
    "    \n",
    "    def test_seperate(self,X_test,y_test):\n",
    "        y_pred = self.model.predict(X_test)\n",
    "        print(accuracy_score(y_pred,y_test))\n",
    "        \n",
    "class XGBoost:\n",
    "    def __init__(self,data,test_size):\n",
    "        self.ts=test_size\n",
    "        self.df=data\n",
    "        \n",
    "    def train(self):\n",
    "        #train-test split\n",
    "        X_train, X_test, y_train, y_test = train_test_split(self.df.iloc[:,1:-1], self.df.iloc[:,-1], test_size=self.ts, random_state=42)\n",
    "\n",
    "        self.test_X = X_test\n",
    "        self.test_y = y_test\n",
    "        #model-training\n",
    "        clf = xgb.XGBClassifier(random_state=5)\n",
    "        clf.fit(X_train,y_train)\n",
    "        self.model = clf\n",
    "        \n",
    "    def test(self):\n",
    "        y_pred = self.model.predict(self.test_X)\n",
    "        print(accuracy_score(y_pred,self.test_y))\n",
    "    \n",
    "    def train_seperate(self,X_train,y_train):\n",
    "        clf = xgb.XGBClassifier(random_state=5)\n",
    "        clf.fit(X_train,y_train)\n",
    "        self.model = clf\n",
    "    \n",
    "    def test_seperate(self,X_test,y_test):\n",
    "        y_pred = self.model.predict(X_test)\n",
    "        print(accuracy_score(y_pred,y_test))"
   ]
  },
  {
   "cell_type": "markdown",
   "id": "42123cc1",
   "metadata": {},
   "source": [
    "# ASL alphabet"
   ]
  },
  {
   "cell_type": "code",
   "execution_count": 3,
   "id": "146a40b5",
   "metadata": {},
   "outputs": [
    {
     "name": "stdout",
     "output_type": "stream",
     "text": [
      "0.9806307027373139\n"
     ]
    },
    {
     "name": "stderr",
     "output_type": "stream",
     "text": [
      "D:\\Anaconda\\lib\\site-packages\\xgboost\\sklearn.py:1224: UserWarning: The use of label encoder in XGBClassifier is deprecated and will be removed in a future release. To remove this warning, do the following: 1) Pass option use_label_encoder=False when constructing XGBClassifier object; and 2) Encode your labels (y) as integers starting with 0, i.e. 0, 1, 2, ..., [num_class - 1].\n",
      "  warnings.warn(label_encoder_deprecation_msg, UserWarning)\n"
     ]
    },
    {
     "name": "stdout",
     "output_type": "stream",
     "text": [
      "[16:37:07] WARNING: C:/Users/Administrator/workspace/xgboost-win64_release_1.5.1/src/learner.cc:1115: Starting in XGBoost 1.3.0, the default evaluation metric used with the objective 'multi:softprob' was changed from 'merror' to 'mlogloss'. Explicitly set eval_metric if you'd like to restore the old behavior.\n",
      "0.986473507283496\n"
     ]
    }
   ],
   "source": [
    "#Hand coordinates\n",
    "df=pd.read_csv('Datasets\\\\imageData_asl.csv')\n",
    "\n",
    "x=Random_Forest(df,0.2)\n",
    "x.train()\n",
    "x.test()      \n",
    "\n",
    "\n",
    "\n",
    "df=pd.read_csv('Datasets\\\\imageData_asl.csv')\n",
    "x=XGBoost(df,0.2)\n",
    "x.train()\n",
    "x.test()"
   ]
  },
  {
   "cell_type": "code",
   "execution_count": 4,
   "id": "21d79655",
   "metadata": {},
   "outputs": [
    {
     "name": "stdout",
     "output_type": "stream",
     "text": [
      "0.971875\n"
     ]
    },
    {
     "name": "stderr",
     "output_type": "stream",
     "text": [
      "D:\\Anaconda\\lib\\site-packages\\xgboost\\sklearn.py:1224: UserWarning: The use of label encoder in XGBClassifier is deprecated and will be removed in a future release. To remove this warning, do the following: 1) Pass option use_label_encoder=False when constructing XGBClassifier object; and 2) Encode your labels (y) as integers starting with 0, i.e. 0, 1, 2, ..., [num_class - 1].\n",
      "  warnings.warn(label_encoder_deprecation_msg, UserWarning)\n"
     ]
    },
    {
     "name": "stdout",
     "output_type": "stream",
     "text": [
      "[20:34:59] WARNING: C:/Users/Administrator/workspace/xgboost-win64_release_1.5.1/src/learner.cc:1115: Starting in XGBoost 1.3.0, the default evaluation metric used with the objective 'multi:softprob' was changed from 'merror' to 'mlogloss'. Explicitly set eval_metric if you'd like to restore the old behavior.\n",
      "0.9384722222222223\n"
     ]
    }
   ],
   "source": [
    "#Convolutional features + PCA\n",
    "df=pd.read_csv('Datasets\\\\imageData2_asl.csv')\n",
    "\n",
    "x=Random_Forest(df,0.2)\n",
    "x.train()\n",
    "x.test()      \n",
    "\n",
    "\n",
    "\n",
    "df=pd.read_csv('Datasets\\\\imageData2_asl.csv')\n",
    "x=XGBoost(df,0.2)\n",
    "x.train()\n",
    "x.test()"
   ]
  },
  {
   "cell_type": "code",
   "execution_count": 3,
   "id": "96039937",
   "metadata": {},
   "outputs": [
    {
     "name": "stdout",
     "output_type": "stream",
     "text": [
      "0.9680646710421003\n"
     ]
    },
    {
     "name": "stderr",
     "output_type": "stream",
     "text": [
      "D:\\Anaconda\\lib\\site-packages\\xgboost\\sklearn.py:1224: UserWarning: The use of label encoder in XGBClassifier is deprecated and will be removed in a future release. To remove this warning, do the following: 1) Pass option use_label_encoder=False when constructing XGBClassifier object; and 2) Encode your labels (y) as integers starting with 0, i.e. 0, 1, 2, ..., [num_class - 1].\n",
      "  warnings.warn(label_encoder_deprecation_msg, UserWarning)\n"
     ]
    },
    {
     "name": "stdout",
     "output_type": "stream",
     "text": [
      "[15:59:26] WARNING: C:/Users/Administrator/workspace/xgboost-win64_release_1.5.1/src/learner.cc:1115: Starting in XGBoost 1.3.0, the default evaluation metric used with the objective 'multi:softprob' was changed from 'merror' to 'mlogloss'. Explicitly set eval_metric if you'd like to restore the old behavior.\n",
      "0.939010725148071\n"
     ]
    }
   ],
   "source": [
    "#Convolutional features +finger angles+ PCA\n",
    "df=pd.read_csv('Datasets\\\\imageData3_asl.csv')\n",
    "x=Random_Forest(df,0.2)\n",
    "x.train()\n",
    "x.test()      \n",
    "\n",
    "\n",
    "\n",
    "df=pd.read_csv('Datasets\\\\imageData3_asl.csv')\n",
    "x=XGBoost(df,0.2)\n",
    "x.train()\n",
    "x.test()"
   ]
  },
  {
   "cell_type": "code",
   "execution_count": 3,
   "id": "c4d54e98",
   "metadata": {},
   "outputs": [
    {
     "name": "stdout",
     "output_type": "stream",
     "text": [
      "0.8993055555555556\n"
     ]
    },
    {
     "name": "stderr",
     "output_type": "stream",
     "text": [
      "D:\\Anaconda\\lib\\site-packages\\xgboost\\sklearn.py:1224: UserWarning: The use of label encoder in XGBClassifier is deprecated and will be removed in a future release. To remove this warning, do the following: 1) Pass option use_label_encoder=False when constructing XGBClassifier object; and 2) Encode your labels (y) as integers starting with 0, i.e. 0, 1, 2, ..., [num_class - 1].\n",
      "  warnings.warn(label_encoder_deprecation_msg, UserWarning)\n"
     ]
    },
    {
     "name": "stdout",
     "output_type": "stream",
     "text": [
      "[15:54:24] WARNING: C:/Users/Administrator/workspace/xgboost-win64_release_1.5.1/src/learner.cc:1115: Starting in XGBoost 1.3.0, the default evaluation metric used with the objective 'multi:softprob' was changed from 'merror' to 'mlogloss'. Explicitly set eval_metric if you'd like to restore the old behavior.\n",
      "0.8356944444444444\n"
     ]
    }
   ],
   "source": [
    "#CNN on hand edges+ PCA\n",
    "df=pd.read_csv('Datasets\\\\imageData4_asl.csv')\n",
    "x=Random_Forest(df,0.2)\n",
    "x.train()\n",
    "x.test()      \n",
    "\n",
    "\n",
    "\n",
    "df=pd.read_csv('Datasets\\\\imageData4_asl.csv')\n",
    "x=XGBoost(df,0.2)\n",
    "x.train()\n",
    "x.test()"
   ]
  },
  {
   "cell_type": "code",
   "execution_count": 3,
   "id": "3d78cf2c",
   "metadata": {},
   "outputs": [
    {
     "name": "stdout",
     "output_type": "stream",
     "text": [
      "0.3605555555555556\n"
     ]
    },
    {
     "name": "stderr",
     "output_type": "stream",
     "text": [
      "D:\\Anaconda\\lib\\site-packages\\xgboost\\sklearn.py:1224: UserWarning: The use of label encoder in XGBClassifier is deprecated and will be removed in a future release. To remove this warning, do the following: 1) Pass option use_label_encoder=False when constructing XGBClassifier object; and 2) Encode your labels (y) as integers starting with 0, i.e. 0, 1, 2, ..., [num_class - 1].\n",
      "  warnings.warn(label_encoder_deprecation_msg, UserWarning)\n"
     ]
    },
    {
     "name": "stdout",
     "output_type": "stream",
     "text": [
      "[14:22:20] WARNING: C:/Users/Administrator/workspace/xgboost-win64_release_1.5.1/src/learner.cc:1115: Starting in XGBoost 1.3.0, the default evaluation metric used with the objective 'multi:softprob' was changed from 'merror' to 'mlogloss'. Explicitly set eval_metric if you'd like to restore the old behavior.\n",
      "0.37756944444444446\n"
     ]
    }
   ],
   "source": [
    "#L.C. of BRISK\n",
    "df=pd.read_csv('Datasets\\\\imageData5_asl.csv')\n",
    "\n",
    "x=Random_Forest(df,0.2)\n",
    "x.train()\n",
    "x.test()      \n",
    "\n",
    "\n",
    "\n",
    "df=pd.read_csv('Datasets\\\\imageData5_asl.csv')\n",
    "x=XGBoost(df,0.2)\n",
    "x.train()\n",
    "x.test()"
   ]
  },
  {
   "cell_type": "code",
   "execution_count": 4,
   "id": "f4d3ea59",
   "metadata": {},
   "outputs": [
    {
     "name": "stdout",
     "output_type": "stream",
     "text": [
      "0.8867361111111111\n"
     ]
    },
    {
     "name": "stderr",
     "output_type": "stream",
     "text": [
      "D:\\Anaconda\\lib\\site-packages\\xgboost\\sklearn.py:1224: UserWarning: The use of label encoder in XGBClassifier is deprecated and will be removed in a future release. To remove this warning, do the following: 1) Pass option use_label_encoder=False when constructing XGBClassifier object; and 2) Encode your labels (y) as integers starting with 0, i.e. 0, 1, 2, ..., [num_class - 1].\n",
      "  warnings.warn(label_encoder_deprecation_msg, UserWarning)\n"
     ]
    },
    {
     "name": "stdout",
     "output_type": "stream",
     "text": [
      "[21:43:13] WARNING: C:/Users/Administrator/workspace/xgboost-win64_release_1.5.1/src/learner.cc:1115: Starting in XGBoost 1.3.0, the default evaluation metric used with the objective 'multi:softprob' was changed from 'merror' to 'mlogloss'. Explicitly set eval_metric if you'd like to restore the old behavior.\n",
      "0.8101388888888889\n"
     ]
    }
   ],
   "source": [
    "#CNN on BRISK + PCA\n",
    "df=pd.read_csv('Datasets\\\\imageData6_asl.csv')\n",
    "\n",
    "x=Random_Forest(df,0.2)\n",
    "x.train()\n",
    "x.test()      \n",
    "\n",
    "\n",
    "\n",
    "df=pd.read_csv('Datasets\\\\imageData6_asl.csv')\n",
    "x=XGBoost(df,0.2)\n",
    "x.train()\n",
    "x.test()"
   ]
  },
  {
   "cell_type": "markdown",
   "id": "7e9b6215",
   "metadata": {},
   "source": [
    "# NUS I dataset"
   ]
  },
  {
   "cell_type": "code",
   "execution_count": 22,
   "id": "e9370902",
   "metadata": {},
   "outputs": [
    {
     "name": "stdout",
     "output_type": "stream",
     "text": [
      "0.8\n",
      "[11:01:41] WARNING: C:/Users/Administrator/workspace/xgboost-win64_release_1.5.1/src/learner.cc:1115: Starting in XGBoost 1.3.0, the default evaluation metric used with the objective 'multi:softprob' was changed from 'merror' to 'mlogloss'. Explicitly set eval_metric if you'd like to restore the old behavior.\n"
     ]
    },
    {
     "name": "stderr",
     "output_type": "stream",
     "text": [
      "D:\\Anaconda\\lib\\site-packages\\xgboost\\sklearn.py:1224: UserWarning: The use of label encoder in XGBClassifier is deprecated and will be removed in a future release. To remove this warning, do the following: 1) Pass option use_label_encoder=False when constructing XGBClassifier object; and 2) Encode your labels (y) as integers starting with 0, i.e. 0, 1, 2, ..., [num_class - 1].\n",
      "  warnings.warn(label_encoder_deprecation_msg, UserWarning)\n"
     ]
    },
    {
     "name": "stdout",
     "output_type": "stream",
     "text": [
      "0.8\n"
     ]
    }
   ],
   "source": [
    "#Hand coordinates\n",
    "df=pd.read_csv('imageData_nus_I.csv')\n",
    "\n",
    "x=Random_Forest(df,25/df.shape[0])\n",
    "x.train()\n",
    "x.test()      \n",
    "\n",
    "\n",
    "\n",
    "df=pd.read_csv('imageData_nus_I.csv')\n",
    "x=XGBoost(df,25/df.shape[0])\n",
    "x.train()\n",
    "x.test()"
   ]
  },
  {
   "cell_type": "code",
   "execution_count": 4,
   "id": "9a851d13",
   "metadata": {},
   "outputs": [
    {
     "name": "stdout",
     "output_type": "stream",
     "text": [
      "0.52\n",
      "[19:26:55] WARNING: C:/Users/Administrator/workspace/xgboost-win64_release_1.5.1/src/learner.cc:1115: Starting in XGBoost 1.3.0, the default evaluation metric used with the objective 'multi:softprob' was changed from 'merror' to 'mlogloss'. Explicitly set eval_metric if you'd like to restore the old behavior.\n"
     ]
    },
    {
     "name": "stderr",
     "output_type": "stream",
     "text": [
      "D:\\Anaconda\\lib\\site-packages\\xgboost\\sklearn.py:1224: UserWarning: The use of label encoder in XGBClassifier is deprecated and will be removed in a future release. To remove this warning, do the following: 1) Pass option use_label_encoder=False when constructing XGBClassifier object; and 2) Encode your labels (y) as integers starting with 0, i.e. 0, 1, 2, ..., [num_class - 1].\n",
      "  warnings.warn(label_encoder_deprecation_msg, UserWarning)\n"
     ]
    },
    {
     "name": "stdout",
     "output_type": "stream",
     "text": [
      "0.52\n"
     ]
    }
   ],
   "source": [
    "#Convolutional features + PCA\n",
    "df=pd.read_csv('Datasets//imageData2_nus_I.csv')\n",
    "\n",
    "x=Random_Forest(df,25/df.shape[0])\n",
    "x.train()\n",
    "x.test()      \n",
    "\n",
    "\n",
    "\n",
    "df=pd.read_csv('Datasets//imageData2_nus_I.csv')\n",
    "x=XGBoost(df,25/df.shape[0])\n",
    "x.train()\n",
    "x.test()"
   ]
  },
  {
   "cell_type": "code",
   "execution_count": 5,
   "id": "2478db98",
   "metadata": {},
   "outputs": [
    {
     "name": "stdout",
     "output_type": "stream",
     "text": [
      "0.52\n",
      "[19:38:13] WARNING: C:/Users/Administrator/workspace/xgboost-win64_release_1.5.1/src/learner.cc:1115: Starting in XGBoost 1.3.0, the default evaluation metric used with the objective 'multi:softprob' was changed from 'merror' to 'mlogloss'. Explicitly set eval_metric if you'd like to restore the old behavior.\n"
     ]
    },
    {
     "name": "stderr",
     "output_type": "stream",
     "text": [
      "D:\\Anaconda\\lib\\site-packages\\xgboost\\sklearn.py:1224: UserWarning: The use of label encoder in XGBClassifier is deprecated and will be removed in a future release. To remove this warning, do the following: 1) Pass option use_label_encoder=False when constructing XGBClassifier object; and 2) Encode your labels (y) as integers starting with 0, i.e. 0, 1, 2, ..., [num_class - 1].\n",
      "  warnings.warn(label_encoder_deprecation_msg, UserWarning)\n"
     ]
    },
    {
     "name": "stdout",
     "output_type": "stream",
     "text": [
      "0.32\n"
     ]
    }
   ],
   "source": [
    "#Convolutional features + finger angles+ PCA\n",
    "df=pd.read_csv('Datasets//imageData3_nus_I.csv')\n",
    "\n",
    "x=Random_Forest(df,25/df.shape[0])\n",
    "x.train()\n",
    "x.test()      \n",
    "\n",
    "\n",
    "\n",
    "df=pd.read_csv('Datasets//imageData3_nus_I.csv')\n",
    "x=XGBoost(df,25/df.shape[0])\n",
    "x.train()\n",
    "x.test()"
   ]
  },
  {
   "cell_type": "code",
   "execution_count": 7,
   "id": "4de04b80",
   "metadata": {},
   "outputs": [
    {
     "name": "stdout",
     "output_type": "stream",
     "text": [
      "0.48\n",
      "[19:45:12] WARNING: C:/Users/Administrator/workspace/xgboost-win64_release_1.5.1/src/learner.cc:1115: Starting in XGBoost 1.3.0, the default evaluation metric used with the objective 'multi:softprob' was changed from 'merror' to 'mlogloss'. Explicitly set eval_metric if you'd like to restore the old behavior.\n"
     ]
    },
    {
     "name": "stderr",
     "output_type": "stream",
     "text": [
      "D:\\Anaconda\\lib\\site-packages\\xgboost\\sklearn.py:1224: UserWarning: The use of label encoder in XGBClassifier is deprecated and will be removed in a future release. To remove this warning, do the following: 1) Pass option use_label_encoder=False when constructing XGBClassifier object; and 2) Encode your labels (y) as integers starting with 0, i.e. 0, 1, 2, ..., [num_class - 1].\n",
      "  warnings.warn(label_encoder_deprecation_msg, UserWarning)\n"
     ]
    },
    {
     "name": "stdout",
     "output_type": "stream",
     "text": [
      "0.48\n"
     ]
    }
   ],
   "source": [
    "#CNN on hand edges+ PCA\n",
    "df=pd.read_csv('Datasets\\\\imageData4_nus_I.csv')\n",
    "\n",
    "x=Random_Forest(df,25/df.shape[0])\n",
    "x.train()\n",
    "x.test()      \n",
    "\n",
    "\n",
    "\n",
    "df=pd.read_csv('Datasets\\\\imageData4_nus_I.csv')\n",
    "x=XGBoost(df,25/df.shape[0])\n",
    "x.train()\n",
    "x.test()"
   ]
  },
  {
   "cell_type": "code",
   "execution_count": 26,
   "id": "ecc3417f",
   "metadata": {},
   "outputs": [
    {
     "name": "stdout",
     "output_type": "stream",
     "text": [
      "0.68\n",
      "[11:10:15] WARNING: C:/Users/Administrator/workspace/xgboost-win64_release_1.5.1/src/learner.cc:1115: Starting in XGBoost 1.3.0, the default evaluation metric used with the objective 'multi:softprob' was changed from 'merror' to 'mlogloss'. Explicitly set eval_metric if you'd like to restore the old behavior.\n"
     ]
    },
    {
     "name": "stderr",
     "output_type": "stream",
     "text": [
      "D:\\Anaconda\\lib\\site-packages\\xgboost\\sklearn.py:1224: UserWarning: The use of label encoder in XGBClassifier is deprecated and will be removed in a future release. To remove this warning, do the following: 1) Pass option use_label_encoder=False when constructing XGBClassifier object; and 2) Encode your labels (y) as integers starting with 0, i.e. 0, 1, 2, ..., [num_class - 1].\n",
      "  warnings.warn(label_encoder_deprecation_msg, UserWarning)\n"
     ]
    },
    {
     "name": "stdout",
     "output_type": "stream",
     "text": [
      "0.6\n"
     ]
    }
   ],
   "source": [
    "#L.C. of BRISK descriptors\n",
    "df=pd.read_csv('imageData5_nus_I.csv')\n",
    "\n",
    "x=Random_Forest(df,25/df.shape[0])\n",
    "x.train()\n",
    "x.test()      \n",
    "\n",
    "\n",
    "\n",
    "df=pd.read_csv('imageData5_nus_I.csv')\n",
    "x=XGBoost(df,25/df.shape[0])\n",
    "x.train()\n",
    "x.test()"
   ]
  },
  {
   "cell_type": "code",
   "execution_count": 3,
   "id": "9b91fc9e",
   "metadata": {},
   "outputs": [
    {
     "name": "stdout",
     "output_type": "stream",
     "text": [
      "0.56\n",
      "[14:26:59] WARNING: C:/Users/Administrator/workspace/xgboost-win64_release_1.5.1/src/learner.cc:1115: Starting in XGBoost 1.3.0, the default evaluation metric used with the objective 'multi:softprob' was changed from 'merror' to 'mlogloss'. Explicitly set eval_metric if you'd like to restore the old behavior.\n"
     ]
    },
    {
     "name": "stderr",
     "output_type": "stream",
     "text": [
      "D:\\Anaconda\\lib\\site-packages\\xgboost\\sklearn.py:1224: UserWarning: The use of label encoder in XGBClassifier is deprecated and will be removed in a future release. To remove this warning, do the following: 1) Pass option use_label_encoder=False when constructing XGBClassifier object; and 2) Encode your labels (y) as integers starting with 0, i.e. 0, 1, 2, ..., [num_class - 1].\n",
      "  warnings.warn(label_encoder_deprecation_msg, UserWarning)\n"
     ]
    },
    {
     "name": "stdout",
     "output_type": "stream",
     "text": [
      "0.6\n"
     ]
    }
   ],
   "source": [
    "#CNN on BRISK\n",
    "df=pd.read_csv('Datasets\\\\imageData6_nus_I.csv')\n",
    "\n",
    "x=Random_Forest(df,25/df.shape[0])\n",
    "x.train()\n",
    "x.test()      \n",
    "\n",
    "\n",
    "\n",
    "df=pd.read_csv('Datasets\\\\imageData6_nus_I.csv')\n",
    "x=XGBoost(df,25/df.shape[0])\n",
    "x.train()\n",
    "x.test()"
   ]
  },
  {
   "cell_type": "markdown",
   "id": "ba814dfc",
   "metadata": {},
   "source": [
    "# NUS II Dataset"
   ]
  },
  {
   "cell_type": "code",
   "execution_count": 17,
   "id": "6b956073",
   "metadata": {},
   "outputs": [
    {
     "name": "stdout",
     "output_type": "stream",
     "text": [
      "0.972\n",
      "[10:50:57] WARNING: C:/Users/Administrator/workspace/xgboost-win64_release_1.5.1/src/learner.cc:1115: Starting in XGBoost 1.3.0, the default evaluation metric used with the objective 'multi:softprob' was changed from 'merror' to 'mlogloss'. Explicitly set eval_metric if you'd like to restore the old behavior.\n"
     ]
    },
    {
     "name": "stderr",
     "output_type": "stream",
     "text": [
      "D:\\Anaconda\\lib\\site-packages\\xgboost\\sklearn.py:1224: UserWarning: The use of label encoder in XGBClassifier is deprecated and will be removed in a future release. To remove this warning, do the following: 1) Pass option use_label_encoder=False when constructing XGBClassifier object; and 2) Encode your labels (y) as integers starting with 0, i.e. 0, 1, 2, ..., [num_class - 1].\n",
      "  warnings.warn(label_encoder_deprecation_msg, UserWarning)\n"
     ]
    },
    {
     "name": "stdout",
     "output_type": "stream",
     "text": [
      "0.972\n"
     ]
    }
   ],
   "source": [
    "#Hand coordinates\n",
    "df=pd.read_csv('imageData_nus_II.csv')\n",
    "\n",
    "x=Random_Forest(df,250/df.shape[0])\n",
    "x.train()\n",
    "x.test()      \n",
    "\n",
    "\n",
    "\n",
    "df=pd.read_csv('imageData_nus_II.csv')\n",
    "x=XGBoost(df,250/df.shape[0])\n",
    "x.train()\n",
    "x.test()"
   ]
  },
  {
   "cell_type": "code",
   "execution_count": 8,
   "id": "eca50d0b",
   "metadata": {},
   "outputs": [
    {
     "name": "stdout",
     "output_type": "stream",
     "text": [
      "0.548\n",
      "[19:55:12] WARNING: C:/Users/Administrator/workspace/xgboost-win64_release_1.5.1/src/learner.cc:1115: Starting in XGBoost 1.3.0, the default evaluation metric used with the objective 'multi:softprob' was changed from 'merror' to 'mlogloss'. Explicitly set eval_metric if you'd like to restore the old behavior.\n"
     ]
    },
    {
     "name": "stderr",
     "output_type": "stream",
     "text": [
      "D:\\Anaconda\\lib\\site-packages\\xgboost\\sklearn.py:1224: UserWarning: The use of label encoder in XGBClassifier is deprecated and will be removed in a future release. To remove this warning, do the following: 1) Pass option use_label_encoder=False when constructing XGBClassifier object; and 2) Encode your labels (y) as integers starting with 0, i.e. 0, 1, 2, ..., [num_class - 1].\n",
      "  warnings.warn(label_encoder_deprecation_msg, UserWarning)\n"
     ]
    },
    {
     "name": "stdout",
     "output_type": "stream",
     "text": [
      "0.444\n"
     ]
    }
   ],
   "source": [
    "#Convolutional features + PCA\n",
    "df=pd.read_csv('Datasets\\\\imageData2_nus_II.csv')\n",
    "\n",
    "x=Random_Forest(df,250/df.shape[0])\n",
    "x.train()\n",
    "x.test()      \n",
    "\n",
    "\n",
    "\n",
    "df=pd.read_csv('Datasets\\\\imageData2_nus_II.csv')\n",
    "x=XGBoost(df,250/df.shape[0])\n",
    "x.train()\n",
    "x.test()"
   ]
  },
  {
   "cell_type": "code",
   "execution_count": 9,
   "id": "18bfd6f5",
   "metadata": {},
   "outputs": [
    {
     "name": "stdout",
     "output_type": "stream",
     "text": [
      "0.524\n",
      "[20:02:49] WARNING: C:/Users/Administrator/workspace/xgboost-win64_release_1.5.1/src/learner.cc:1115: Starting in XGBoost 1.3.0, the default evaluation metric used with the objective 'multi:softprob' was changed from 'merror' to 'mlogloss'. Explicitly set eval_metric if you'd like to restore the old behavior.\n"
     ]
    },
    {
     "name": "stderr",
     "output_type": "stream",
     "text": [
      "D:\\Anaconda\\lib\\site-packages\\xgboost\\sklearn.py:1224: UserWarning: The use of label encoder in XGBClassifier is deprecated and will be removed in a future release. To remove this warning, do the following: 1) Pass option use_label_encoder=False when constructing XGBClassifier object; and 2) Encode your labels (y) as integers starting with 0, i.e. 0, 1, 2, ..., [num_class - 1].\n",
      "  warnings.warn(label_encoder_deprecation_msg, UserWarning)\n"
     ]
    },
    {
     "name": "stdout",
     "output_type": "stream",
     "text": [
      "0.428\n"
     ]
    }
   ],
   "source": [
    "#Convolutional features + finger angles + PCA\n",
    "df=pd.read_csv('Datasets\\\\imageData3_nus_II.csv')\n",
    "\n",
    "x=Random_Forest(df,250/df.shape[0])\n",
    "x.train()\n",
    "x.test()      \n",
    "\n",
    "\n",
    "\n",
    "df=pd.read_csv('Datasets\\\\imageData3_nus_II.csv')\n",
    "x=XGBoost(df,250/df.shape[0])\n",
    "x.train()\n",
    "x.test()"
   ]
  },
  {
   "cell_type": "code",
   "execution_count": 10,
   "id": "8d062b2c",
   "metadata": {},
   "outputs": [
    {
     "name": "stdout",
     "output_type": "stream",
     "text": [
      "0.62\n",
      "[20:12:57] WARNING: C:/Users/Administrator/workspace/xgboost-win64_release_1.5.1/src/learner.cc:1115: Starting in XGBoost 1.3.0, the default evaluation metric used with the objective 'multi:softprob' was changed from 'merror' to 'mlogloss'. Explicitly set eval_metric if you'd like to restore the old behavior.\n"
     ]
    },
    {
     "name": "stderr",
     "output_type": "stream",
     "text": [
      "D:\\Anaconda\\lib\\site-packages\\xgboost\\sklearn.py:1224: UserWarning: The use of label encoder in XGBClassifier is deprecated and will be removed in a future release. To remove this warning, do the following: 1) Pass option use_label_encoder=False when constructing XGBClassifier object; and 2) Encode your labels (y) as integers starting with 0, i.e. 0, 1, 2, ..., [num_class - 1].\n",
      "  warnings.warn(label_encoder_deprecation_msg, UserWarning)\n"
     ]
    },
    {
     "name": "stdout",
     "output_type": "stream",
     "text": [
      "0.496\n"
     ]
    }
   ],
   "source": [
    "#CNN on hand edges + PCA\n",
    "df=pd.read_csv('Datasets\\\\imageData4_nus_II.csv')\n",
    "\n",
    "x=Random_Forest(df,250/df.shape[0])\n",
    "x.train()\n",
    "x.test()      \n",
    "\n",
    "\n",
    "\n",
    "df=pd.read_csv('Datasets\\\\imageData4_nus_II.csv')\n",
    "x=XGBoost(df,250/df.shape[0])\n",
    "x.train()\n",
    "x.test()"
   ]
  },
  {
   "cell_type": "code",
   "execution_count": 21,
   "id": "555ae5eb",
   "metadata": {},
   "outputs": [
    {
     "name": "stdout",
     "output_type": "stream",
     "text": [
      "0.204\n",
      "[10:59:39] WARNING: C:/Users/Administrator/workspace/xgboost-win64_release_1.5.1/src/learner.cc:1115: Starting in XGBoost 1.3.0, the default evaluation metric used with the objective 'multi:softprob' was changed from 'merror' to 'mlogloss'. Explicitly set eval_metric if you'd like to restore the old behavior.\n"
     ]
    },
    {
     "name": "stderr",
     "output_type": "stream",
     "text": [
      "D:\\Anaconda\\lib\\site-packages\\xgboost\\sklearn.py:1224: UserWarning: The use of label encoder in XGBClassifier is deprecated and will be removed in a future release. To remove this warning, do the following: 1) Pass option use_label_encoder=False when constructing XGBClassifier object; and 2) Encode your labels (y) as integers starting with 0, i.e. 0, 1, 2, ..., [num_class - 1].\n",
      "  warnings.warn(label_encoder_deprecation_msg, UserWarning)\n"
     ]
    },
    {
     "name": "stdout",
     "output_type": "stream",
     "text": [
      "0.16\n"
     ]
    }
   ],
   "source": [
    "#L.C. of BRISK descriptors\n",
    "df=pd.read_csv('imageData5_nus_II.csv')\n",
    "\n",
    "x=Random_Forest(df,250/df.shape[0])\n",
    "x.train()\n",
    "x.test()      \n",
    "\n",
    "\n",
    "\n",
    "df=pd.read_csv('imageData5_nus_II.csv')\n",
    "x=XGBoost(df,250/df.shape[0])\n",
    "x.train()\n",
    "x.test()"
   ]
  },
  {
   "cell_type": "code",
   "execution_count": 6,
   "id": "84df6964",
   "metadata": {},
   "outputs": [
    {
     "name": "stdout",
     "output_type": "stream",
     "text": [
      "0.492\n",
      "[14:47:46] WARNING: C:/Users/Administrator/workspace/xgboost-win64_release_1.5.1/src/learner.cc:1115: Starting in XGBoost 1.3.0, the default evaluation metric used with the objective 'multi:softprob' was changed from 'merror' to 'mlogloss'. Explicitly set eval_metric if you'd like to restore the old behavior.\n"
     ]
    },
    {
     "name": "stderr",
     "output_type": "stream",
     "text": [
      "D:\\Anaconda\\lib\\site-packages\\xgboost\\sklearn.py:1224: UserWarning: The use of label encoder in XGBClassifier is deprecated and will be removed in a future release. To remove this warning, do the following: 1) Pass option use_label_encoder=False when constructing XGBClassifier object; and 2) Encode your labels (y) as integers starting with 0, i.e. 0, 1, 2, ..., [num_class - 1].\n",
      "  warnings.warn(label_encoder_deprecation_msg, UserWarning)\n"
     ]
    },
    {
     "name": "stdout",
     "output_type": "stream",
     "text": [
      "0.388\n"
     ]
    }
   ],
   "source": [
    "#CNN on BRISK + PCA\n",
    "df=pd.read_csv('Datasets\\\\imageData6_nus_II.csv')\n",
    "\n",
    "x=Random_Forest(df,250/df.shape[0])\n",
    "x.train()\n",
    "x.test()      \n",
    "\n",
    "\n",
    "\n",
    "df=pd.read_csv('Datasets\\\\imageData6_nus_II.csv')\n",
    "x=XGBoost(df,250/df.shape[0])\n",
    "x.train()\n",
    "x.test()"
   ]
  },
  {
   "cell_type": "markdown",
   "id": "3092b220",
   "metadata": {},
   "source": [
    "# ISL digits"
   ]
  },
  {
   "cell_type": "code",
   "execution_count": 14,
   "id": "f1b94a3a",
   "metadata": {},
   "outputs": [
    {
     "name": "stdout",
     "output_type": "stream",
     "text": [
      "1.0\n",
      "[10:46:59] WARNING: C:/Users/Administrator/workspace/xgboost-win64_release_1.5.1/src/learner.cc:1115: Starting in XGBoost 1.3.0, the default evaluation metric used with the objective 'multi:softprob' was changed from 'merror' to 'mlogloss'. Explicitly set eval_metric if you'd like to restore the old behavior.\n"
     ]
    },
    {
     "name": "stderr",
     "output_type": "stream",
     "text": [
      "D:\\Anaconda\\lib\\site-packages\\xgboost\\sklearn.py:1224: UserWarning: The use of label encoder in XGBClassifier is deprecated and will be removed in a future release. To remove this warning, do the following: 1) Pass option use_label_encoder=False when constructing XGBClassifier object; and 2) Encode your labels (y) as integers starting with 0, i.e. 0, 1, 2, ..., [num_class - 1].\n",
      "  warnings.warn(label_encoder_deprecation_msg, UserWarning)\n"
     ]
    },
    {
     "name": "stdout",
     "output_type": "stream",
     "text": [
      "0.9960159362549801\n"
     ]
    }
   ],
   "source": [
    "#Hand coordinates\n",
    "df=pd.read_csv('imageData_ISL_digits.csv')\n",
    "x=Random_Forest(df,250/df.shape[0])\n",
    "x.train()\n",
    "x.test()      \n",
    "\n",
    "\n",
    "\n",
    "df=pd.read_csv('imageData_ISL_digits.csv')\n",
    "x=XGBoost(df,250/df.shape[0])\n",
    "x.train()\n",
    "x.test()\n"
   ]
  },
  {
   "cell_type": "code",
   "execution_count": 4,
   "id": "30dae8f1",
   "metadata": {},
   "outputs": [
    {
     "name": "stdout",
     "output_type": "stream",
     "text": [
      "0.98\n"
     ]
    },
    {
     "name": "stderr",
     "output_type": "stream",
     "text": [
      "D:\\Anaconda\\lib\\site-packages\\xgboost\\sklearn.py:1224: UserWarning: The use of label encoder in XGBClassifier is deprecated and will be removed in a future release. To remove this warning, do the following: 1) Pass option use_label_encoder=False when constructing XGBClassifier object; and 2) Encode your labels (y) as integers starting with 0, i.e. 0, 1, 2, ..., [num_class - 1].\n",
      "  warnings.warn(label_encoder_deprecation_msg, UserWarning)\n"
     ]
    },
    {
     "name": "stdout",
     "output_type": "stream",
     "text": [
      "[16:12:17] WARNING: C:/Users/Administrator/workspace/xgboost-win64_release_1.5.1/src/learner.cc:1115: Starting in XGBoost 1.3.0, the default evaluation metric used with the objective 'multi:softprob' was changed from 'merror' to 'mlogloss'. Explicitly set eval_metric if you'd like to restore the old behavior.\n",
      "0.96\n"
     ]
    }
   ],
   "source": [
    "#Conv features + PCA\n",
    "df=pd.read_csv('Datasets\\\\imageData2_ISL_digits.csv')\n",
    "x=Random_Forest(df,250/df.shape[0])\n",
    "x.train()\n",
    "x.test()      \n",
    "\n",
    "\n",
    "\n",
    "df=pd.read_csv('Datasets\\\\imageData2_ISL_digits.csv')\n",
    "x=XGBoost(df,250/df.shape[0])\n",
    "x.train()\n",
    "x.test()"
   ]
  },
  {
   "cell_type": "code",
   "execution_count": 5,
   "id": "62d378e8",
   "metadata": {},
   "outputs": [
    {
     "name": "stdout",
     "output_type": "stream",
     "text": [
      "0.9601593625498008\n",
      "[16:24:15] WARNING: C:/Users/Administrator/workspace/xgboost-win64_release_1.5.1/src/learner.cc:1115: Starting in XGBoost 1.3.0, the default evaluation metric used with the objective 'multi:softprob' was changed from 'merror' to 'mlogloss'. Explicitly set eval_metric if you'd like to restore the old behavior.\n"
     ]
    },
    {
     "name": "stderr",
     "output_type": "stream",
     "text": [
      "D:\\Anaconda\\lib\\site-packages\\xgboost\\sklearn.py:1224: UserWarning: The use of label encoder in XGBClassifier is deprecated and will be removed in a future release. To remove this warning, do the following: 1) Pass option use_label_encoder=False when constructing XGBClassifier object; and 2) Encode your labels (y) as integers starting with 0, i.e. 0, 1, 2, ..., [num_class - 1].\n",
      "  warnings.warn(label_encoder_deprecation_msg, UserWarning)\n"
     ]
    },
    {
     "name": "stdout",
     "output_type": "stream",
     "text": [
      "0.952191235059761\n"
     ]
    }
   ],
   "source": [
    "#Conv-features+finger angles+PCA\n",
    "df=pd.read_csv('Datasets\\\\imageData3_ISL_digits.csv')\n",
    "x=Random_Forest(df,250/df.shape[0])\n",
    "x.train()\n",
    "x.test()      \n",
    "\n",
    "\n",
    "\n",
    "df=pd.read_csv('Datasets\\\\imageData3_ISL_digits.csv')\n",
    "x=XGBoost(df,250/df.shape[0])\n",
    "x.train()\n",
    "x.test()"
   ]
  },
  {
   "cell_type": "code",
   "execution_count": 11,
   "id": "5c1ea06f",
   "metadata": {},
   "outputs": [
    {
     "name": "stdout",
     "output_type": "stream",
     "text": [
      "0.988\n",
      "[10:43:03] WARNING: C:/Users/Administrator/workspace/xgboost-win64_release_1.5.1/src/learner.cc:1115: Starting in XGBoost 1.3.0, the default evaluation metric used with the objective 'multi:softprob' was changed from 'merror' to 'mlogloss'. Explicitly set eval_metric if you'd like to restore the old behavior.\n"
     ]
    },
    {
     "name": "stderr",
     "output_type": "stream",
     "text": [
      "D:\\Anaconda\\lib\\site-packages\\xgboost\\sklearn.py:1224: UserWarning: The use of label encoder in XGBClassifier is deprecated and will be removed in a future release. To remove this warning, do the following: 1) Pass option use_label_encoder=False when constructing XGBClassifier object; and 2) Encode your labels (y) as integers starting with 0, i.e. 0, 1, 2, ..., [num_class - 1].\n",
      "  warnings.warn(label_encoder_deprecation_msg, UserWarning)\n"
     ]
    },
    {
     "name": "stdout",
     "output_type": "stream",
     "text": [
      "0.988\n"
     ]
    }
   ],
   "source": [
    "#CNN features from hand edges+PCA\n",
    "df=pd.read_csv('imageData4_ISL_digits.csv')\n",
    "x=Random_Forest(df,250/df.shape[0])\n",
    "x.train()\n",
    "x.test()      \n",
    "\n",
    "\n",
    "\n",
    "df=pd.read_csv('imageData4_ISL_digits.csv')\n",
    "x=XGBoost(df,250/df.shape[0])\n",
    "x.train()\n",
    "x.test()"
   ]
  },
  {
   "cell_type": "code",
   "execution_count": 12,
   "id": "4a6784d9",
   "metadata": {},
   "outputs": [
    {
     "name": "stdout",
     "output_type": "stream",
     "text": [
      "0.712\n",
      "[10:43:12] WARNING: C:/Users/Administrator/workspace/xgboost-win64_release_1.5.1/src/learner.cc:1115: Starting in XGBoost 1.3.0, the default evaluation metric used with the objective 'multi:softprob' was changed from 'merror' to 'mlogloss'. Explicitly set eval_metric if you'd like to restore the old behavior.\n"
     ]
    },
    {
     "name": "stderr",
     "output_type": "stream",
     "text": [
      "D:\\Anaconda\\lib\\site-packages\\xgboost\\sklearn.py:1224: UserWarning: The use of label encoder in XGBClassifier is deprecated and will be removed in a future release. To remove this warning, do the following: 1) Pass option use_label_encoder=False when constructing XGBClassifier object; and 2) Encode your labels (y) as integers starting with 0, i.e. 0, 1, 2, ..., [num_class - 1].\n",
      "  warnings.warn(label_encoder_deprecation_msg, UserWarning)\n"
     ]
    },
    {
     "name": "stdout",
     "output_type": "stream",
     "text": [
      "0.7\n"
     ]
    }
   ],
   "source": [
    "#LC of BRISK\n",
    "df=pd.read_csv('imageData5_ISL_digits.csv')\n",
    "x=Random_Forest(df,250/df.shape[0])\n",
    "x.train()\n",
    "x.test()      \n",
    "\n",
    "\n",
    "\n",
    "df=pd.read_csv('imageData5_ISL_digits.csv')\n",
    "x=XGBoost(df,250/df.shape[0])\n",
    "x.train()\n",
    "x.test()"
   ]
  },
  {
   "cell_type": "code",
   "execution_count": 7,
   "id": "dd058123",
   "metadata": {},
   "outputs": [
    {
     "name": "stdout",
     "output_type": "stream",
     "text": [
      "0.964\n",
      "[15:10:55] WARNING: C:/Users/Administrator/workspace/xgboost-win64_release_1.5.1/src/learner.cc:1115: Starting in XGBoost 1.3.0, the default evaluation metric used with the objective 'multi:softprob' was changed from 'merror' to 'mlogloss'. Explicitly set eval_metric if you'd like to restore the old behavior.\n"
     ]
    },
    {
     "name": "stderr",
     "output_type": "stream",
     "text": [
      "D:\\Anaconda\\lib\\site-packages\\xgboost\\sklearn.py:1224: UserWarning: The use of label encoder in XGBClassifier is deprecated and will be removed in a future release. To remove this warning, do the following: 1) Pass option use_label_encoder=False when constructing XGBClassifier object; and 2) Encode your labels (y) as integers starting with 0, i.e. 0, 1, 2, ..., [num_class - 1].\n",
      "  warnings.warn(label_encoder_deprecation_msg, UserWarning)\n"
     ]
    },
    {
     "name": "stdout",
     "output_type": "stream",
     "text": [
      "0.96\n"
     ]
    }
   ],
   "source": [
    "#CNN on BRISK + PCA\n",
    "df=pd.read_csv('Datasets\\\\imageData6_ISL_digits.csv')\n",
    "x=Random_Forest(df,250/df.shape[0])\n",
    "x.train()\n",
    "x.test()      \n",
    "\n",
    "\n",
    "\n",
    "df=pd.read_csv('Datasets\\\\imageData6_ISL_digits.csv')\n",
    "x=XGBoost(df,250/df.shape[0])\n",
    "x.train()\n",
    "x.test()"
   ]
  },
  {
   "cell_type": "markdown",
   "id": "5f440bf2",
   "metadata": {},
   "source": [
    "# Cambridge hand gesture dataset"
   ]
  },
  {
   "cell_type": "code",
   "execution_count": 27,
   "id": "307f8dd5",
   "metadata": {},
   "outputs": [
    {
     "name": "stdout",
     "output_type": "stream",
     "text": [
      "0.9862579281183932\n"
     ]
    },
    {
     "name": "stderr",
     "output_type": "stream",
     "text": [
      "D:\\Anaconda\\lib\\site-packages\\xgboost\\sklearn.py:1224: UserWarning: The use of label encoder in XGBClassifier is deprecated and will be removed in a future release. To remove this warning, do the following: 1) Pass option use_label_encoder=False when constructing XGBClassifier object; and 2) Encode your labels (y) as integers starting with 0, i.e. 0, 1, 2, ..., [num_class - 1].\n",
      "  warnings.warn(label_encoder_deprecation_msg, UserWarning)\n"
     ]
    },
    {
     "name": "stdout",
     "output_type": "stream",
     "text": [
      "[11:13:05] WARNING: C:/Users/Administrator/workspace/xgboost-win64_release_1.5.1/src/learner.cc:1115: Starting in XGBoost 1.3.0, the default evaluation metric used with the objective 'multi:softprob' was changed from 'merror' to 'mlogloss'. Explicitly set eval_metric if you'd like to restore the old behavior.\n",
      "0.9878916009994234\n"
     ]
    }
   ],
   "source": [
    "#Hand coordinates\n",
    "df=pd.read_csv('imageData_cambridge.csv')\n",
    "x=Random_Forest(df,0.2)\n",
    "x.train()\n",
    "x.test()      \n",
    "\n",
    "\n",
    "\n",
    "df=pd.read_csv('imageData_cambridge.csv')\n",
    "x=XGBoost(df,0.2)\n",
    "x.train()\n",
    "x.test()"
   ]
  },
  {
   "cell_type": "code",
   "execution_count": 3,
   "id": "77953966",
   "metadata": {},
   "outputs": [
    {
     "name": "stdout",
     "output_type": "stream",
     "text": [
      "0.9954897926887166\n"
     ]
    },
    {
     "name": "stderr",
     "output_type": "stream",
     "text": [
      "D:\\Anaconda\\lib\\site-packages\\xgboost\\sklearn.py:1224: UserWarning: The use of label encoder in XGBClassifier is deprecated and will be removed in a future release. To remove this warning, do the following: 1) Pass option use_label_encoder=False when constructing XGBClassifier object; and 2) Encode your labels (y) as integers starting with 0, i.e. 0, 1, 2, ..., [num_class - 1].\n",
      "  warnings.warn(label_encoder_deprecation_msg, UserWarning)\n"
     ]
    },
    {
     "name": "stdout",
     "output_type": "stream",
     "text": [
      "[19:12:32] WARNING: C:/Users/Administrator/workspace/xgboost-win64_release_1.5.1/src/learner.cc:1115: Starting in XGBoost 1.3.0, the default evaluation metric used with the objective 'multi:softprob' was changed from 'merror' to 'mlogloss'. Explicitly set eval_metric if you'd like to restore the old behavior.\n",
      "0.9666877670517487\n"
     ]
    }
   ],
   "source": [
    "#conv features + PCA\n",
    "df=pd.read_csv('Datasets//imageData2_cambridge.csv')\n",
    "x=Random_Forest(df,0.2)\n",
    "x.train()\n",
    "x.test()      \n",
    "\n",
    "\n",
    "\n",
    "df=pd.read_csv('Datasets//imageData2_cambridge.csv')\n",
    "x=XGBoost(df,0.2)\n",
    "x.train()\n",
    "x.test()"
   ]
  },
  {
   "cell_type": "code",
   "execution_count": 3,
   "id": "edb03579",
   "metadata": {},
   "outputs": [
    {
     "name": "stdout",
     "output_type": "stream",
     "text": [
      "0.9924256951102589\n"
     ]
    },
    {
     "name": "stderr",
     "output_type": "stream",
     "text": [
      "D:\\Anaconda\\lib\\site-packages\\xgboost\\sklearn.py:1224: UserWarning: The use of label encoder in XGBClassifier is deprecated and will be removed in a future release. To remove this warning, do the following: 1) Pass option use_label_encoder=False when constructing XGBClassifier object; and 2) Encode your labels (y) as integers starting with 0, i.e. 0, 1, 2, ..., [num_class - 1].\n",
      "  warnings.warn(label_encoder_deprecation_msg, UserWarning)\n"
     ]
    },
    {
     "name": "stdout",
     "output_type": "stream",
     "text": [
      "[09:32:45] WARNING: C:/Users/Administrator/workspace/xgboost-win64_release_1.5.1/src/learner.cc:1115: Starting in XGBoost 1.3.0, the default evaluation metric used with the objective 'multi:softprob' was changed from 'merror' to 'mlogloss'. Explicitly set eval_metric if you'd like to restore the old behavior.\n",
      "0.9671140939597316\n"
     ]
    }
   ],
   "source": [
    "#conv features + finger angles + PCA\n",
    "df=pd.read_csv('Datasets//imageData3_cambridge.csv')\n",
    "x=Random_Forest(df,0.2)\n",
    "x.train()\n",
    "x.test()      \n",
    "\n",
    "\n",
    "\n",
    "df=pd.read_csv('Datasets//imageData3_cambridge.csv')\n",
    "x=XGBoost(df,0.2)\n",
    "x.train()\n",
    "x.test()"
   ]
  },
  {
   "cell_type": "code",
   "execution_count": 29,
   "id": "21f18420",
   "metadata": {},
   "outputs": [
    {
     "name": "stdout",
     "output_type": "stream",
     "text": [
      "0.9956480455768317\n"
     ]
    },
    {
     "name": "stderr",
     "output_type": "stream",
     "text": [
      "D:\\Anaconda\\lib\\site-packages\\xgboost\\sklearn.py:1224: UserWarning: The use of label encoder in XGBClassifier is deprecated and will be removed in a future release. To remove this warning, do the following: 1) Pass option use_label_encoder=False when constructing XGBClassifier object; and 2) Encode your labels (y) as integers starting with 0, i.e. 0, 1, 2, ..., [num_class - 1].\n",
      "  warnings.warn(label_encoder_deprecation_msg, UserWarning)\n"
     ]
    },
    {
     "name": "stdout",
     "output_type": "stream",
     "text": [
      "[11:21:21] WARNING: C:/Users/Administrator/workspace/xgboost-win64_release_1.5.1/src/learner.cc:1115: Starting in XGBoost 1.3.0, the default evaluation metric used with the objective 'multi:softprob' was changed from 'merror' to 'mlogloss'. Explicitly set eval_metric if you'd like to restore the old behavior.\n",
      "0.9939072638075644\n"
     ]
    }
   ],
   "source": [
    "#CNN on hand edges + PCA\n",
    "df=pd.read_csv('imageData4_cambridge.csv')\n",
    "x=Random_Forest(df,0.2)\n",
    "x.train()\n",
    "x.test()      \n",
    "\n",
    "\n",
    "\n",
    "df=pd.read_csv('imageData4_cambridge.csv')\n",
    "x=XGBoost(df,0.2)\n",
    "x.train()\n",
    "x.test()"
   ]
  },
  {
   "cell_type": "code",
   "execution_count": 30,
   "id": "277f5f6e",
   "metadata": {},
   "outputs": [
    {
     "name": "stdout",
     "output_type": "stream",
     "text": [
      "0.5210476341193226\n"
     ]
    },
    {
     "name": "stderr",
     "output_type": "stream",
     "text": [
      "D:\\Anaconda\\lib\\site-packages\\xgboost\\sklearn.py:1224: UserWarning: The use of label encoder in XGBClassifier is deprecated and will be removed in a future release. To remove this warning, do the following: 1) Pass option use_label_encoder=False when constructing XGBClassifier object; and 2) Encode your labels (y) as integers starting with 0, i.e. 0, 1, 2, ..., [num_class - 1].\n",
      "  warnings.warn(label_encoder_deprecation_msg, UserWarning)\n"
     ]
    },
    {
     "name": "stdout",
     "output_type": "stream",
     "text": [
      "[11:24:43] WARNING: C:/Users/Administrator/workspace/xgboost-win64_release_1.5.1/src/learner.cc:1115: Starting in XGBoost 1.3.0, the default evaluation metric used with the objective 'multi:softprob' was changed from 'merror' to 'mlogloss'. Explicitly set eval_metric if you'd like to restore the old behavior.\n",
      "0.5462098433296407\n"
     ]
    }
   ],
   "source": [
    "#L.C. on BRISK descriptors\n",
    "df=pd.read_csv('imageData5_cambridge.csv')\n",
    "x=Random_Forest(df,0.2)\n",
    "x.train()\n",
    "x.test()      \n",
    "\n",
    "\n",
    "\n",
    "df=pd.read_csv('imageData5_cambridge.csv')\n",
    "x=XGBoost(df,0.2)\n",
    "x.train()\n",
    "x.test()"
   ]
  },
  {
   "cell_type": "code",
   "execution_count": 3,
   "id": "f677c688",
   "metadata": {},
   "outputs": [
    {
     "name": "stdout",
     "output_type": "stream",
     "text": [
      "0.9809305269821175\n"
     ]
    },
    {
     "name": "stderr",
     "output_type": "stream",
     "text": [
      "D:\\Anaconda\\lib\\site-packages\\xgboost\\sklearn.py:1224: UserWarning: The use of label encoder in XGBClassifier is deprecated and will be removed in a future release. To remove this warning, do the following: 1) Pass option use_label_encoder=False when constructing XGBClassifier object; and 2) Encode your labels (y) as integers starting with 0, i.e. 0, 1, 2, ..., [num_class - 1].\n",
      "  warnings.warn(label_encoder_deprecation_msg, UserWarning)\n"
     ]
    },
    {
     "name": "stdout",
     "output_type": "stream",
     "text": [
      "[20:53:53] WARNING: C:/Users/Administrator/workspace/xgboost-win64_release_1.5.1/src/learner.cc:1115: Starting in XGBoost 1.3.0, the default evaluation metric used with the objective 'multi:softprob' was changed from 'merror' to 'mlogloss'. Explicitly set eval_metric if you'd like to restore the old behavior.\n",
      "0.9280740623516379\n"
     ]
    }
   ],
   "source": [
    "#CNN on BRISK + PCA\n",
    "df=pd.read_csv('Datasets\\\\imageData6_cambridge.csv')\n",
    "x=Random_Forest(df,0.2)\n",
    "x.train()\n",
    "x.test()      \n",
    "\n",
    "\n",
    "\n",
    "df=pd.read_csv('Datasets\\\\imageData6_cambridge.csv')\n",
    "x=XGBoost(df,0.2)\n",
    "x.train()\n",
    "x.test()"
   ]
  },
  {
   "cell_type": "markdown",
   "id": "2718fa57",
   "metadata": {},
   "source": [
    "# ASL fingerspell "
   ]
  },
  {
   "cell_type": "code",
   "execution_count": 31,
   "id": "a10b20d7",
   "metadata": {},
   "outputs": [
    {
     "name": "stdout",
     "output_type": "stream",
     "text": [
      "0.9896660754222256\n"
     ]
    },
    {
     "name": "stderr",
     "output_type": "stream",
     "text": [
      "D:\\Anaconda\\lib\\site-packages\\xgboost\\sklearn.py:1224: UserWarning: The use of label encoder in XGBClassifier is deprecated and will be removed in a future release. To remove this warning, do the following: 1) Pass option use_label_encoder=False when constructing XGBClassifier object; and 2) Encode your labels (y) as integers starting with 0, i.e. 0, 1, 2, ..., [num_class - 1].\n",
      "  warnings.warn(label_encoder_deprecation_msg, UserWarning)\n"
     ]
    },
    {
     "name": "stdout",
     "output_type": "stream",
     "text": [
      "[11:41:36] WARNING: C:/Users/Administrator/workspace/xgboost-win64_release_1.5.1/src/learner.cc:1115: Starting in XGBoost 1.3.0, the default evaluation metric used with the objective 'multi:softprob' was changed from 'merror' to 'mlogloss'. Explicitly set eval_metric if you'd like to restore the old behavior.\n",
      "0.9913626899051439\n"
     ]
    }
   ],
   "source": [
    "#Hand coordinates\n",
    "df=pd.read_csv('imageData_ASL_fingerspell.csv')\n",
    "x=Random_Forest(df,0.2)\n",
    "x.train()\n",
    "x.test()      \n",
    "\n",
    "\n",
    "\n",
    "df=pd.read_csv('imageData_ASL_fingerspell.csv')\n",
    "x=XGBoost(df,0.2)\n",
    "x.train()\n",
    "x.test()"
   ]
  },
  {
   "cell_type": "code",
   "execution_count": 11,
   "id": "1552e958",
   "metadata": {},
   "outputs": [
    {
     "name": "stdout",
     "output_type": "stream",
     "text": [
      "0.8681109844165716\n"
     ]
    },
    {
     "name": "stderr",
     "output_type": "stream",
     "text": [
      "D:\\Anaconda\\lib\\site-packages\\xgboost\\sklearn.py:1224: UserWarning: The use of label encoder in XGBClassifier is deprecated and will be removed in a future release. To remove this warning, do the following: 1) Pass option use_label_encoder=False when constructing XGBClassifier object; and 2) Encode your labels (y) as integers starting with 0, i.e. 0, 1, 2, ..., [num_class - 1].\n",
      "  warnings.warn(label_encoder_deprecation_msg, UserWarning)\n"
     ]
    },
    {
     "name": "stdout",
     "output_type": "stream",
     "text": [
      "[22:31:09] WARNING: C:/Users/Administrator/workspace/xgboost-win64_release_1.5.1/src/learner.cc:1115: Starting in XGBoost 1.3.0, the default evaluation metric used with the objective 'multi:softprob' was changed from 'merror' to 'mlogloss'. Explicitly set eval_metric if you'd like to restore the old behavior.\n",
      "0.798175598631699\n"
     ]
    }
   ],
   "source": [
    "#Convolutional features + PCA\n",
    "df=pd.read_csv('Datasets\\\\imageData2_asl_fingerspell.csv')\n",
    "x=Random_Forest(df,0.2)\n",
    "x.train()\n",
    "x.test()      \n",
    "\n",
    "\n",
    "\n",
    "df=pd.read_csv('Datasets\\\\imageData2_asl_fingerspell.csv')\n",
    "x=XGBoost(df,0.2)\n",
    "x.train()\n",
    "x.test()"
   ]
  },
  {
   "cell_type": "code",
   "execution_count": 3,
   "id": "ec82296e",
   "metadata": {},
   "outputs": [
    {
     "name": "stdout",
     "output_type": "stream",
     "text": [
      "0.8551708182308938\n"
     ]
    },
    {
     "name": "stderr",
     "output_type": "stream",
     "text": [
      "D:\\Anaconda\\lib\\site-packages\\xgboost\\sklearn.py:1224: UserWarning: The use of label encoder in XGBClassifier is deprecated and will be removed in a future release. To remove this warning, do the following: 1) Pass option use_label_encoder=False when constructing XGBClassifier object; and 2) Encode your labels (y) as integers starting with 0, i.e. 0, 1, 2, ..., [num_class - 1].\n",
      "  warnings.warn(label_encoder_deprecation_msg, UserWarning)\n"
     ]
    },
    {
     "name": "stdout",
     "output_type": "stream",
     "text": [
      "[18:21:29] WARNING: C:/Users/Administrator/workspace/xgboost-win64_release_1.5.1/src/learner.cc:1115: Starting in XGBoost 1.3.0, the default evaluation metric used with the objective 'multi:softprob' was changed from 'merror' to 'mlogloss'. Explicitly set eval_metric if you'd like to restore the old behavior.\n",
      "0.7791316418601064\n"
     ]
    }
   ],
   "source": [
    "#Convolutional features + finger angles + PCA\n",
    "df=pd.read_csv('Datasets\\\\imageData3_asl_fingerspell.csv')\n",
    "x=Random_Forest(df,0.2)\n",
    "x.train()\n",
    "x.test()      \n",
    "\n",
    "\n",
    "\n",
    "df=pd.read_csv('Datasets\\\\imageData3_asl_fingerspell.csv')\n",
    "x=XGBoost(df,0.2)\n",
    "x.train()\n",
    "x.test()"
   ]
  },
  {
   "cell_type": "code",
   "execution_count": 3,
   "id": "bd946eee",
   "metadata": {},
   "outputs": [
    {
     "name": "stdout",
     "output_type": "stream",
     "text": [
      "0.39110604332953247\n"
     ]
    },
    {
     "name": "stderr",
     "output_type": "stream",
     "text": [
      "D:\\Anaconda\\lib\\site-packages\\xgboost\\sklearn.py:1224: UserWarning: The use of label encoder in XGBClassifier is deprecated and will be removed in a future release. To remove this warning, do the following: 1) Pass option use_label_encoder=False when constructing XGBClassifier object; and 2) Encode your labels (y) as integers starting with 0, i.e. 0, 1, 2, ..., [num_class - 1].\n",
      "  warnings.warn(label_encoder_deprecation_msg, UserWarning)\n"
     ]
    },
    {
     "name": "stdout",
     "output_type": "stream",
     "text": [
      "[15:27:22] WARNING: C:/Users/Administrator/workspace/xgboost-win64_release_1.5.1/src/learner.cc:1115: Starting in XGBoost 1.3.0, the default evaluation metric used with the objective 'multi:softprob' was changed from 'merror' to 'mlogloss'. Explicitly set eval_metric if you'd like to restore the old behavior.\n",
      "0.3715697453439757\n"
     ]
    }
   ],
   "source": [
    "#CNN hand edges + PCA\n",
    "df=pd.read_csv('Datasets\\\\imageData4_ASL_fingerspell.csv')\n",
    "x=Random_Forest(df,0.2)\n",
    "x.train()\n",
    "x.test()      \n",
    "\n",
    "\n",
    "\n",
    "df=pd.read_csv('Datasets\\\\imageData4_ASL_fingerspell.csv')\n",
    "x=XGBoost(df,0.2)\n",
    "x.train()\n",
    "x.test()"
   ]
  },
  {
   "cell_type": "code",
   "execution_count": 33,
   "id": "0707f016",
   "metadata": {},
   "outputs": [
    {
     "name": "stdout",
     "output_type": "stream",
     "text": [
      "0.24386164956290385\n"
     ]
    },
    {
     "name": "stderr",
     "output_type": "stream",
     "text": [
      "D:\\Anaconda\\lib\\site-packages\\xgboost\\sklearn.py:1224: UserWarning: The use of label encoder in XGBClassifier is deprecated and will be removed in a future release. To remove this warning, do the following: 1) Pass option use_label_encoder=False when constructing XGBClassifier object; and 2) Encode your labels (y) as integers starting with 0, i.e. 0, 1, 2, ..., [num_class - 1].\n",
      "  warnings.warn(label_encoder_deprecation_msg, UserWarning)\n"
     ]
    },
    {
     "name": "stdout",
     "output_type": "stream",
     "text": [
      "[12:00:58] WARNING: C:/Users/Administrator/workspace/xgboost-win64_release_1.5.1/src/learner.cc:1115: Starting in XGBoost 1.3.0, the default evaluation metric used with the objective 'multi:softprob' was changed from 'merror' to 'mlogloss'. Explicitly set eval_metric if you'd like to restore the old behavior.\n",
      "0.2776130748764728\n"
     ]
    }
   ],
   "source": [
    "#L.C. of BRISK descriptors\n",
    "df=pd.read_csv('imageData5_ASL_fingerspell.csv')\n",
    "x=Random_Forest(df,0.2)\n",
    "x.train()\n",
    "x.test()      \n",
    "\n",
    "\n",
    "\n",
    "df=pd.read_csv('imageData5_ASL_fingerspell.csv')\n",
    "x=XGBoost(df,0.2)\n",
    "x.train()\n",
    "x.test()"
   ]
  },
  {
   "cell_type": "code",
   "execution_count": 4,
   "id": "d26121b2",
   "metadata": {},
   "outputs": [
    {
     "name": "stdout",
     "output_type": "stream",
     "text": [
      "0.7950589129608514\n"
     ]
    },
    {
     "name": "stderr",
     "output_type": "stream",
     "text": [
      "D:\\Anaconda\\lib\\site-packages\\xgboost\\sklearn.py:1224: UserWarning: The use of label encoder in XGBClassifier is deprecated and will be removed in a future release. To remove this warning, do the following: 1) Pass option use_label_encoder=False when constructing XGBClassifier object; and 2) Encode your labels (y) as integers starting with 0, i.e. 0, 1, 2, ..., [num_class - 1].\n",
      "  warnings.warn(label_encoder_deprecation_msg, UserWarning)\n"
     ]
    },
    {
     "name": "stdout",
     "output_type": "stream",
     "text": [
      "[10:00:11] WARNING: C:/Users/Administrator/workspace/xgboost-win64_release_1.5.1/src/learner.cc:1115: Starting in XGBoost 1.3.0, the default evaluation metric used with the objective 'multi:softprob' was changed from 'merror' to 'mlogloss'. Explicitly set eval_metric if you'd like to restore the old behavior.\n",
      "0.7416951729380463\n"
     ]
    }
   ],
   "source": [
    "#CNN on BRISK + PCA\n",
    "df=pd.read_csv('Datasets\\\\imageData6_ASL_fingerspell.csv')\n",
    "x=Random_Forest(df,0.2)\n",
    "x.train()\n",
    "x.test()      \n",
    "\n",
    "\n",
    "\n",
    "df=pd.read_csv('Datasets\\\\imageData6_ASL_fingerspell.csv')\n",
    "x=XGBoost(df,0.2)\n",
    "x.train()\n",
    "x.test()"
   ]
  },
  {
   "cell_type": "code",
   "execution_count": null,
   "id": "336e4550",
   "metadata": {},
   "outputs": [],
   "source": []
  }
 ],
 "metadata": {
  "kernelspec": {
   "display_name": "Python 3 (ipykernel)",
   "language": "python",
   "name": "python3"
  },
  "language_info": {
   "codemirror_mode": {
    "name": "ipython",
    "version": 3
   },
   "file_extension": ".py",
   "mimetype": "text/x-python",
   "name": "python",
   "nbconvert_exporter": "python",
   "pygments_lexer": "ipython3",
   "version": "3.9.13"
  }
 },
 "nbformat": 4,
 "nbformat_minor": 5
}
