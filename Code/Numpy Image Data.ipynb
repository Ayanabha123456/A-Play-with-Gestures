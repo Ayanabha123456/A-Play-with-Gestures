{
 "cells": [
  {
   "cell_type": "code",
   "execution_count": 2,
   "id": "2553c02f",
   "metadata": {},
   "outputs": [],
   "source": [
    "import numpy as np\n",
    "import cv2\n",
    "import pickle\n",
    "import pandas as pd\n",
    "from keras_preprocessing.image import ImageDataGenerator\n",
    "import os"
   ]
  },
  {
   "cell_type": "code",
   "execution_count": 5,
   "id": "6deaf62d",
   "metadata": {},
   "outputs": [],
   "source": [
    "x=pickle.load(open('C:\\\\Users\\\\Ayanabha\\\\Capstone\\\\Pickles\\\\x_rwth.pkl','rb'))\n",
    "y=pickle.load(open('C:\\\\Users\\\\Ayanabha\\\\Capstone\\\\Pickles\\\\y_rwth.pkl','rb'))"
   ]
  },
  {
   "cell_type": "code",
   "execution_count": null,
   "id": "e1d68dbb",
   "metadata": {},
   "outputs": [],
   "source": [
    "im_data=[]\n",
    "label_data=[]\n",
    "for i in range(len(x)):\n",
    "    image=cv2.imread(x[i])\n",
    "    print(x[i])\n",
    "    if image is not None:\n",
    "        image=cv2.cvtColor(image, cv2.COLOR_BGR2RGB)\n",
    "        image=image.tolist()\n",
    "        im_data.append(image)\n",
    "        label_data.append(y[i])"
   ]
  },
  {
   "cell_type": "code",
   "execution_count": 6,
   "id": "72935003",
   "metadata": {},
   "outputs": [],
   "source": [
    "data={'id':x,'sign':y}\n",
    "df=pd.DataFrame(data)"
   ]
  },
  {
   "cell_type": "code",
   "execution_count": 4,
   "id": "198e1f54",
   "metadata": {},
   "outputs": [
    {
     "name": "stdout",
     "output_type": "stream",
     "text": [
      "Found 1107 validated image filenames belonging to 10 classes.\n"
     ]
    }
   ],
   "source": [
    "datagen=ImageDataGenerator()\n",
    "data_set = datagen.flow_from_dataframe(dataframe=df,\n",
    "                                        directory=None,\n",
    "                                        x_col=\"id\", y_col=\"sign\",\n",
    "                                        batch_size=16, seed=42,\n",
    "                                        class_mode=\"categorical\",\n",
    "                                        target_size=(120,160),\n",
    "                                          shuffle=False)"
   ]
  },
  {
   "cell_type": "code",
   "execution_count": 5,
   "id": "500407aa",
   "metadata": {},
   "outputs": [
    {
     "name": "stdout",
     "output_type": "stream",
     "text": [
      "1\n",
      "2\n",
      "3\n",
      "4\n",
      "5\n",
      "6\n",
      "7\n",
      "8\n",
      "9\n",
      "10\n",
      "11\n",
      "12\n",
      "13\n",
      "14\n",
      "15\n",
      "16\n",
      "17\n",
      "18\n",
      "19\n",
      "20\n",
      "21\n",
      "22\n",
      "23\n",
      "24\n",
      "25\n",
      "26\n",
      "27\n",
      "28\n",
      "29\n",
      "30\n",
      "31\n",
      "32\n",
      "33\n",
      "34\n",
      "35\n",
      "36\n",
      "37\n",
      "38\n",
      "39\n",
      "40\n",
      "41\n",
      "42\n",
      "43\n",
      "44\n",
      "45\n",
      "46\n",
      "47\n",
      "48\n",
      "49\n",
      "50\n",
      "51\n",
      "52\n",
      "53\n",
      "54\n",
      "55\n",
      "56\n",
      "57\n",
      "58\n",
      "59\n",
      "60\n",
      "61\n",
      "62\n",
      "63\n",
      "64\n",
      "65\n",
      "66\n",
      "67\n",
      "68\n",
      "69\n"
     ]
    },
    {
     "data": {
      "text/plain": [
       "(1107, 120, 160, 3)"
      ]
     },
     "execution_count": 5,
     "metadata": {},
     "output_type": "execute_result"
    }
   ],
   "source": [
    "#X\n",
    "X=data_set[0][0]\n",
    "for i in range(1,len(data_set)):\n",
    "    print(i)\n",
    "    X=np.concatenate((X,data_set[i][0]),axis=0)\n",
    "X.shape"
   ]
  },
  {
   "cell_type": "code",
   "execution_count": 6,
   "id": "da763da8",
   "metadata": {},
   "outputs": [],
   "source": [
    "pickle.dump(X, open('C:\\\\Users\\\\Ayanabha\\\\Capstone\\\\Pickles\\\\imdata_rwth_sample.pkl', 'wb'))"
   ]
  },
  {
   "cell_type": "code",
   "execution_count": 3,
   "id": "1ef0dd5c",
   "metadata": {},
   "outputs": [],
   "source": [
    "x=pickle.load(open('C:\\\\Users\\\\Ayanabha\\\\Capstone\\\\Pickles\\\\x_rwth.pkl','rb'))"
   ]
  },
  {
   "cell_type": "code",
   "execution_count": 4,
   "id": "e44e9b67",
   "metadata": {},
   "outputs": [
    {
     "data": {
      "text/plain": [
       "1107"
      ]
     },
     "execution_count": 4,
     "metadata": {},
     "output_type": "execute_result"
    }
   ],
   "source": [
    "len(x)"
   ]
  },
  {
   "cell_type": "code",
   "execution_count": 11,
   "id": "1fbb9696",
   "metadata": {},
   "outputs": [],
   "source": [
    "df=pd.read_csv('Datasets\\\\imageData2_cambridge.csv')"
   ]
  },
  {
   "cell_type": "code",
   "execution_count": 8,
   "id": "cd331500",
   "metadata": {},
   "outputs": [
    {
     "data": {
      "text/plain": [
       "HEUTE NACHT VIEL REGION STARK WOLKE MOEGLICH BISSCHEN AUSWAEHLEN REGEN BESONDERS ALPEN ABER STERN KOENNEN SEHEN    181\n",
       "NACHT SCHAUER AUCH FLUSS SUED REGION REGEN                                                                         177\n",
       "DEZEMBER ANFANG REGEN HEUTE LEUTE NACH-HAUSE NACH-HAUSE NACH-HAUSE NACH-HAUSE DAS-IST-ES HEUTE VOR MITTAG W IX     171\n",
       "WIND SCHWACH MAESSIG NORD SEE IX KOENNEN FRISCH WEHEN                                                              131\n",
       "MORGEN KUESTE KOENNEN REGEN WIND REGION FREUNDLICH                                                                 118\n",
       "KOMMEN ALLE KOMMEN WARM SONNE AUS FRANKREICH KOMMEN                                                                 93\n",
       "FREITAG BISSCHEN WETTER WECHSELHAFT WEITER                                                                          86\n",
       "ENDLICH WIRKLICH SOMMER KOMMEN                                                                                      57\n",
       "LIEB ZUSCHAUER ABEND                                                                                                53\n",
       "TEIL AUCH NEBEL                                                                                                     40\n",
       "Name: sign, dtype: int64"
      ]
     },
     "execution_count": 8,
     "metadata": {},
     "output_type": "execute_result"
    }
   ],
   "source": [
    "df.iloc[:,-1].value_counts()"
   ]
  },
  {
   "cell_type": "code",
   "execution_count": 7,
   "id": "2b395d31",
   "metadata": {},
   "outputs": [
    {
     "data": {
      "text/html": [
       "<div>\n",
       "<style scoped>\n",
       "    .dataframe tbody tr th:only-of-type {\n",
       "        vertical-align: middle;\n",
       "    }\n",
       "\n",
       "    .dataframe tbody tr th {\n",
       "        vertical-align: top;\n",
       "    }\n",
       "\n",
       "    .dataframe thead th {\n",
       "        text-align: right;\n",
       "    }\n",
       "</style>\n",
       "<table border=\"1\" class=\"dataframe\">\n",
       "  <thead>\n",
       "    <tr style=\"text-align: right;\">\n",
       "      <th></th>\n",
       "      <th>id</th>\n",
       "      <th>sign</th>\n",
       "    </tr>\n",
       "  </thead>\n",
       "  <tbody>\n",
       "    <tr>\n",
       "      <th>0</th>\n",
       "      <td>D:\\Capstone utilities\\Datasets\\RWTH_PHOENIX_fr...</td>\n",
       "      <td>DEZEMBER ANFANG REGEN HEUTE LEUTE NACH-HAUSE N...</td>\n",
       "    </tr>\n",
       "    <tr>\n",
       "      <th>1</th>\n",
       "      <td>D:\\Capstone utilities\\Datasets\\RWTH_PHOENIX_fr...</td>\n",
       "      <td>DEZEMBER ANFANG REGEN HEUTE LEUTE NACH-HAUSE N...</td>\n",
       "    </tr>\n",
       "    <tr>\n",
       "      <th>2</th>\n",
       "      <td>D:\\Capstone utilities\\Datasets\\RWTH_PHOENIX_fr...</td>\n",
       "      <td>DEZEMBER ANFANG REGEN HEUTE LEUTE NACH-HAUSE N...</td>\n",
       "    </tr>\n",
       "    <tr>\n",
       "      <th>3</th>\n",
       "      <td>D:\\Capstone utilities\\Datasets\\RWTH_PHOENIX_fr...</td>\n",
       "      <td>DEZEMBER ANFANG REGEN HEUTE LEUTE NACH-HAUSE N...</td>\n",
       "    </tr>\n",
       "    <tr>\n",
       "      <th>4</th>\n",
       "      <td>D:\\Capstone utilities\\Datasets\\RWTH_PHOENIX_fr...</td>\n",
       "      <td>DEZEMBER ANFANG REGEN HEUTE LEUTE NACH-HAUSE N...</td>\n",
       "    </tr>\n",
       "    <tr>\n",
       "      <th>...</th>\n",
       "      <td>...</td>\n",
       "      <td>...</td>\n",
       "    </tr>\n",
       "    <tr>\n",
       "      <th>1102</th>\n",
       "      <td>D:\\Capstone utilities\\Datasets\\RWTH_PHOENIX_fr...</td>\n",
       "      <td>WIND SCHWACH MAESSIG NORD SEE IX KOENNEN FRISC...</td>\n",
       "    </tr>\n",
       "    <tr>\n",
       "      <th>1103</th>\n",
       "      <td>D:\\Capstone utilities\\Datasets\\RWTH_PHOENIX_fr...</td>\n",
       "      <td>WIND SCHWACH MAESSIG NORD SEE IX KOENNEN FRISC...</td>\n",
       "    </tr>\n",
       "    <tr>\n",
       "      <th>1104</th>\n",
       "      <td>D:\\Capstone utilities\\Datasets\\RWTH_PHOENIX_fr...</td>\n",
       "      <td>WIND SCHWACH MAESSIG NORD SEE IX KOENNEN FRISC...</td>\n",
       "    </tr>\n",
       "    <tr>\n",
       "      <th>1105</th>\n",
       "      <td>D:\\Capstone utilities\\Datasets\\RWTH_PHOENIX_fr...</td>\n",
       "      <td>WIND SCHWACH MAESSIG NORD SEE IX KOENNEN FRISC...</td>\n",
       "    </tr>\n",
       "    <tr>\n",
       "      <th>1106</th>\n",
       "      <td>D:\\Capstone utilities\\Datasets\\RWTH_PHOENIX_fr...</td>\n",
       "      <td>WIND SCHWACH MAESSIG NORD SEE IX KOENNEN FRISC...</td>\n",
       "    </tr>\n",
       "  </tbody>\n",
       "</table>\n",
       "<p>1107 rows × 2 columns</p>\n",
       "</div>"
      ],
      "text/plain": [
       "                                                     id  \\\n",
       "0     D:\\Capstone utilities\\Datasets\\RWTH_PHOENIX_fr...   \n",
       "1     D:\\Capstone utilities\\Datasets\\RWTH_PHOENIX_fr...   \n",
       "2     D:\\Capstone utilities\\Datasets\\RWTH_PHOENIX_fr...   \n",
       "3     D:\\Capstone utilities\\Datasets\\RWTH_PHOENIX_fr...   \n",
       "4     D:\\Capstone utilities\\Datasets\\RWTH_PHOENIX_fr...   \n",
       "...                                                 ...   \n",
       "1102  D:\\Capstone utilities\\Datasets\\RWTH_PHOENIX_fr...   \n",
       "1103  D:\\Capstone utilities\\Datasets\\RWTH_PHOENIX_fr...   \n",
       "1104  D:\\Capstone utilities\\Datasets\\RWTH_PHOENIX_fr...   \n",
       "1105  D:\\Capstone utilities\\Datasets\\RWTH_PHOENIX_fr...   \n",
       "1106  D:\\Capstone utilities\\Datasets\\RWTH_PHOENIX_fr...   \n",
       "\n",
       "                                                   sign  \n",
       "0     DEZEMBER ANFANG REGEN HEUTE LEUTE NACH-HAUSE N...  \n",
       "1     DEZEMBER ANFANG REGEN HEUTE LEUTE NACH-HAUSE N...  \n",
       "2     DEZEMBER ANFANG REGEN HEUTE LEUTE NACH-HAUSE N...  \n",
       "3     DEZEMBER ANFANG REGEN HEUTE LEUTE NACH-HAUSE N...  \n",
       "4     DEZEMBER ANFANG REGEN HEUTE LEUTE NACH-HAUSE N...  \n",
       "...                                                 ...  \n",
       "1102  WIND SCHWACH MAESSIG NORD SEE IX KOENNEN FRISC...  \n",
       "1103  WIND SCHWACH MAESSIG NORD SEE IX KOENNEN FRISC...  \n",
       "1104  WIND SCHWACH MAESSIG NORD SEE IX KOENNEN FRISC...  \n",
       "1105  WIND SCHWACH MAESSIG NORD SEE IX KOENNEN FRISC...  \n",
       "1106  WIND SCHWACH MAESSIG NORD SEE IX KOENNEN FRISC...  \n",
       "\n",
       "[1107 rows x 2 columns]"
      ]
     },
     "execution_count": 7,
     "metadata": {},
     "output_type": "execute_result"
    }
   ],
   "source": [
    "df"
   ]
  },
  {
   "cell_type": "code",
   "execution_count": null,
   "id": "d99b2b5d",
   "metadata": {},
   "outputs": [],
   "source": []
  }
 ],
 "metadata": {
  "kernelspec": {
   "display_name": "Python 3 (ipykernel)",
   "language": "python",
   "name": "python3"
  },
  "language_info": {
   "codemirror_mode": {
    "name": "ipython",
    "version": 3
   },
   "file_extension": ".py",
   "mimetype": "text/x-python",
   "name": "python",
   "nbconvert_exporter": "python",
   "pygments_lexer": "ipython3",
   "version": "3.9.7"
  }
 },
 "nbformat": 4,
 "nbformat_minor": 5
}
